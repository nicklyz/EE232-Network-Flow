{
 "cells": [
  {
   "cell_type": "code",
   "execution_count": 1,
   "metadata": {
    "collapsed": false
   },
   "outputs": [
    {
     "name": "stderr",
     "output_type": "stream",
     "text": [
      "\n",
      "Attaching package: ‘igraph’\n",
      "\n",
      "The following objects are masked from ‘package:stats’:\n",
      "\n",
      "    decompose, spectrum\n",
      "\n",
      "The following object is masked from ‘package:base’:\n",
      "\n",
      "    union\n",
      "\n"
     ]
    }
   ],
   "source": [
    "library(igraph)\n",
    "library(data.table)"
   ]
  },
  {
   "cell_type": "code",
   "execution_count": 2,
   "metadata": {
    "collapsed": false
   },
   "outputs": [
    {
     "name": "stdout",
     "output_type": "stream",
     "text": [
      "\r",
      "Read 0.0% of 41030666 rows\r",
      "Read 8.3% of 41030666 rows\r",
      "Read 16.4% of 41030666 rows\r",
      "Read 24.7% of 41030666 rows\r",
      "Read 33.0% of 41030666 rows\r",
      "Read 41.3% of 41030666 rows\r",
      "Read 49.6% of 41030666 rows\r",
      "Read 57.9% of 41030666 rows\r",
      "Read 66.0% of 41030666 rows\r",
      "Read 74.3% of 41030666 rows\r",
      "Read 82.6% of 41030666 rows\r",
      "Read 91.0% of 41030666 rows\r",
      "Read 99.3% of 41030666 rows\r",
      "Read 41030666 rows and 3 (of 3) columns from 1.769 GB file in 00:00:16\n"
     ]
    }
   ],
   "source": [
    "df = fread(file=\"movie_edgelist.txt\")"
   ]
  },
  {
   "cell_type": "code",
   "execution_count": 3,
   "metadata": {
    "collapsed": true
   },
   "outputs": [],
   "source": [
    "colnames(df) = c(\"n1\", \"n2\", \"weight\")"
   ]
  },
  {
   "cell_type": "code",
   "execution_count": 4,
   "metadata": {
    "collapsed": true
   },
   "outputs": [],
   "source": [
    "g = simplify( graph.data.frame(df, directed=FALSE))"
   ]
  },
  {
   "cell_type": "code",
   "execution_count": 5,
   "metadata": {
    "collapsed": true
   },
   "outputs": [],
   "source": [
    "names = V(g)$name"
   ]
  },
  {
   "cell_type": "code",
   "execution_count": 6,
   "metadata": {
    "collapsed": false
   },
   "outputs": [
    {
     "data": {
      "text/html": [
       "90829"
      ],
      "text/latex": [
       "90829"
      ],
      "text/markdown": [
       "90829"
      ],
      "text/plain": [
       "[1] 90829"
      ]
     },
     "metadata": {},
     "output_type": "display_data"
    }
   ],
   "source": [
    "vcount(g)"
   ]
  },
  {
   "cell_type": "code",
   "execution_count": 7,
   "metadata": {
    "collapsed": false
   },
   "outputs": [
    {
     "data": {
      "text/html": [
       "40939838"
      ],
      "text/latex": [
       "40939838"
      ],
      "text/markdown": [
       "40939838"
      ],
      "text/plain": [
       "[1] 40939838"
      ]
     },
     "metadata": {},
     "output_type": "display_data"
    }
   ],
   "source": [
    "ecount(g)"
   ]
  },
  {
   "cell_type": "code",
   "execution_count": 8,
   "metadata": {
    "collapsed": true
   },
   "outputs": [],
   "source": [
    "community = fastgreedy.community(g)"
   ]
  },
  {
   "cell_type": "code",
   "execution_count": 11,
   "metadata": {
    "collapsed": true
   },
   "outputs": [],
   "source": [
    "saveRDS(community, \"community.rds\")"
   ]
  },
  {
   "cell_type": "code",
   "execution_count": 12,
   "metadata": {
    "collapsed": false
   },
   "outputs": [
    {
     "data": {
      "text/html": [
       "0.750072583392866"
      ],
      "text/latex": [
       "0.750072583392866"
      ],
      "text/markdown": [
       "0.750072583392866"
      ],
      "text/plain": [
       "[1] 0.7500726"
      ]
     },
     "metadata": {},
     "output_type": "display_data"
    }
   ],
   "source": [
    "modularity(community)"
   ]
  },
  {
   "cell_type": "code",
   "execution_count": 14,
   "metadata": {
    "collapsed": false
   },
   "outputs": [
    {
     "data": {
      "text/plain": [
       "Community sizes\n",
       "    1     2     3     4     5     6     7     8     9    10    11    12    13 \n",
       " 5725  1076 25963  4203  2856  3710  5083    33  3529  6607  8154   705 16185 \n",
       "   14    15    16    17    18    19 \n",
       " 1188  2356  1438   862   722   434 "
      ]
     },
     "metadata": {},
     "output_type": "display_data"
    }
   ],
   "source": [
    "sizes(community)"
   ]
  },
  {
   "cell_type": "code",
   "execution_count": 15,
   "metadata": {
    "collapsed": true
   },
   "outputs": [],
   "source": [
    "comm = readRDS(\"community.rds\")"
   ]
  },
  {
   "cell_type": "code",
   "execution_count": 16,
   "metadata": {
    "collapsed": false
   },
   "outputs": [
    {
     "data": {
      "text/plain": [
       "Community sizes\n",
       "    1     2     3     4     5     6     7     8     9    10    11    12    13 \n",
       " 5725  1076 25963  4203  2856  3710  5083    33  3529  6607  8154   705 16185 \n",
       "   14    15    16    17    18    19 \n",
       " 1188  2356  1438   862   722   434 "
      ]
     },
     "metadata": {},
     "output_type": "display_data"
    }
   ],
   "source": [
    "sizes(comm)"
   ]
  },
  {
   "cell_type": "code",
   "execution_count": 17,
   "metadata": {
    "collapsed": true
   },
   "outputs": [],
   "source": [
    "V(g)$community = comm$membership"
   ]
  },
  {
   "cell_type": "code",
   "execution_count": 18,
   "metadata": {
    "collapsed": false
   },
   "outputs": [
    {
     "data": {
      "text/plain": [
       "\n",
       "    1     2     3     4     5     6     7     8     9    10    11    12    13 \n",
       " 5725  1076 25963  4203  2856  3710  5083    33  3529  6607  8154   705 16185 \n",
       "   14    15    16    17    18    19 \n",
       " 1188  2356  1438   862   722   434 "
      ]
     },
     "metadata": {},
     "output_type": "display_data"
    }
   ],
   "source": [
    "table(V(g)$community)"
   ]
  },
  {
   "cell_type": "code",
   "execution_count": 19,
   "metadata": {
    "collapsed": false
   },
   "outputs": [
    {
     "data": {
      "image/png": "[encoded data removed]",
      "text/plain": [
       "Plot with title “Histogram of V(g)$community”"
      ]
     },
     "metadata": {},
     "output_type": "display_data"
    }
   ],
   "source": [
    "hist(V(g)$community)"
   ]
  },
  {
   "cell_type": "code",
   "execution_count": 20,
   "metadata": {
    "collapsed": true
   },
   "outputs": [],
   "source": [
    "saveRDS(g, \"graph.rds\")"
   ]
  },
  {
   "cell_type": "code",
   "execution_count": null,
   "metadata": {
    "collapsed": true
   },
   "outputs": [],
   "source": []
  }
 ],
 "metadata": {
  "kernelspec": {
   "display_name": "R",
   "language": "R",
   "name": "ir"
  },
  "language_info": {
   "codemirror_mode": "r",
   "file_extension": ".r",
   "mimetype": "text/x-r-source",
   "name": "R",
   "pygments_lexer": "r",
   "version": "3.2.3"
  }
 },
 "nbformat": 4,
 "nbformat_minor": 2
}
