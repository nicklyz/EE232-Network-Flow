{
 "cells": [
  {
   "cell_type": "markdown",
   "metadata": {},
   "source": [
    "## EE232E Project 2\n",
    "### Problem 1"
   ]
  },
  {
   "cell_type": "code",
   "execution_count": 23,
   "metadata": {
    "collapsed": true
   },
   "outputs": [],
   "source": [
    "from igraph import *\n",
    "from collections import defaultdict\n",
    "import string\n",
    "import pickle\n",
    "from tqdm import tqdm_notebook as timer"
   ]
  },
  {
   "cell_type": "code",
   "execution_count": 25,
   "metadata": {},
   "outputs": [
    {
     "data": {
      "application/vnd.jupyter.widget-view+json": {
       "model_id": "24bfb8d84b1f440bbb10926f1d106543"
      }
     },
     "metadata": {},
     "output_type": "display_data"
    },
    {
     "name": "stdout",
     "output_type": "stream",
     "text": [
      "\n"
     ]
    },
    {
     "data": {
      "application/vnd.jupyter.widget-view+json": {
       "model_id": "265009ef7ae44158a938f230c5f0063b"
      }
     },
     "metadata": {},
     "output_type": "display_data"
    },
    {
     "name": "stdout",
     "output_type": "stream",
     "text": [
      "\n"
     ]
    }
   ],
   "source": [
    "outfile = open(\"./project_2_data/\" + \"combined.txt\", \"w\")\n",
    "infiles = [\"./project_2_data/actor_movies.txt\", \"./project_2_data/actress_movies.txt\"]\n",
    "printable = set(string.printable)\n",
    "fl = {\"./project_2_data/actor_movies.txt\": 2167653, \"./project_2_data/actress_movies.txt\": 1182813}\n",
    "for f in infiles:\n",
    "    with open(f, \"rb\") as infile:\n",
    "        for line in timer(infile, total=fl[f], desc=\"actor list\"):\n",
    "            line = filter(lambda x : x in printable, line.decode('latin1')).encode('ascii')\n",
    "            arr = line.split(\"\\t\\t\")\n",
    "            outfile.write(line)\n",
    "outfile.close()"
   ]
  },
  {
   "cell_type": "markdown",
   "metadata": {},
   "source": [
    "### Problem 2\n",
    "Construct a weighted directed graph $G(V, E)$ from the list, while:\n",
    "\n",
    "$V = \\text{all actors/actresses in the list.} $\n",
    "\n",
    "$S_i = \\{m | i \\in V, m \\text{ is a movie in which } i \\text{ has acted.}$\n",
    "\n",
    "$ E = \\{(i,j)|i,j ∈ V,S_i \\cap S_j \\neq ∅\\} \\text{ and for each directed Edge } i → j, \\text{ a weight is assigned as } \\frac{|S_i \\cap S_j|}{|S_i|}.$"
   ]
  },
  {
   "cell_type": "code",
   "execution_count": null,
   "metadata": {},
   "outputs": [],
   "source": [
    "# combine actor and actress into one file\n",
    "combine(\"combined_10.txt\", 10)"
   ]
  },
  {
   "cell_type": "code",
   "execution_count": null,
   "metadata": {
    "collapsed": true
   },
   "outputs": [],
   "source": [
    "def clean_string(s):\n",
    "    return(re.sub(r'\\(.*\\)|\\{.*\\}|\\'|\\\"', \"\", s).lstrip().rstrip())"
   ]
  },
  {
   "cell_type": "code",
   "execution_count": null,
   "metadata": {
    "collapsed": true
   },
   "outputs": [],
   "source": [
    "# create dictionaries\n",
    "actor2movie = defaultdict(list)\n",
    "movie2actor = defaultdict(list)\n",
    "\n",
    "with open(\"./project_2_data/combined_10.txt\", \"r\") as infile:\n",
    "    for line in infile:\n",
    "        arr = line.strip().translate(None, \"&$ \").split(\"\\t\\t\")\n",
    "        for i in range(1, len(arr)):\n",
    "            actor2movie[arr[0]].append(arr[i])\n",
    "            movie2actor[arr[i]].append(arr[0])\n"
   ]
  },
  {
   "cell_type": "code",
   "execution_count": null,
   "metadata": {
    "collapsed": true
   },
   "outputs": [],
   "source": [
    "# use pickle to save the actor2movie dict and movie2actor dict\n",
    "pickle.dump(actor2movie, open(\"actor2movie.pkl\", \"wb\" ))\n",
    "pickle.dump(movie2actor, open(\"movie2actor.pkl\", \"wb\" ))\n",
    "\n",
    "# uncomment this to load pickle file\n",
    "# actor2movie = pickle.load(open(\"actor2movie.pkl\", \"rb\" ))\n",
    "# movie2actor = pickle.load(open(\"movie2actor.pkl\", \"rb\" ))\n",
    "\n"
   ]
  },
  {
   "cell_type": "code",
   "execution_count": null,
   "metadata": {},
   "outputs": [],
   "source": [
    "# create edge list\n",
    "count = 0\n",
    "\n",
    "outfile = open(\"./edgelist.txt\", \"w\")\n",
    "\n",
    "for i, movies in timer(actor2movie.iteritems(), total):\n",
    "    # for an actor i, get the list of actors that appear in the same movie\n",
    "    i2k = defaultdict(int)\n",
    "    for j in movies:\n",
    "        for k in movie2actor[j]:\n",
    "            i2k[k]=i2k[k]+1\n",
    "    for k, w in i2k.iteritems():\n",
    "        weight = float(w) / len(movies)\n",
    "        # g.add_edge(i, k, weight=weight)\n",
    "        line = i + '\\t' + k + '\\t' + str(weight) + '\\n'\n",
    "        outfile.write(line)\n",
    "        count = count + 1\n",
    "print(count)\n",
    "outfile.close()"
   ]
  },
  {
   "cell_type": "code",
   "execution_count": null,
   "metadata": {},
   "outputs": [],
   "source": [
    "g = Graph.Read_Ncol('edgelist.txt', directed=True)\n",
    "print(g.vcount())\n",
    "print(g.ecount())"
   ]
  },
  {
   "cell_type": "markdown",
   "metadata": {},
   "source": [
    "### Problem 3\n",
    "Run the Page Rank algorithm on the network. And list the top 10 actors according to page rank.\n",
    "We also listed the top 10 actors ranked by the number of movie he/she has acted in."
   ]
  },
  {
   "cell_type": "code",
   "execution_count": null,
   "metadata": {
    "collapsed": true
   },
   "outputs": [],
   "source": [
    "page_rank = g.pagerank(vertices=None, directed=True)"
   ]
  },
  {
   "cell_type": "code",
   "execution_count": null,
   "metadata": {
    "collapsed": true
   },
   "outputs": [],
   "source": [
    "sorted_pr = sorted(range(len(page_rank)), key=lambda k: page_rank[k], reverse=True)"
   ]
  },
  {
   "cell_type": "code",
   "execution_count": null,
   "metadata": {},
   "outputs": [],
   "source": [
    "for actor in g.vs[sorted_pr[0:10]][\"name\"]:\n",
    "    print actor, len(actor2movie[actor]), page_rank[g.vs.find(actor).index]"
   ]
  },
  {
   "cell_type": "code",
   "execution_count": null,
   "metadata": {},
   "outputs": [],
   "source": [
    "# sort by number of movies appeared in\n",
    "sorted_actor2movie = sorted(actor2movie, key=lambda k: len(actor2movie[k]), reverse=True)\n",
    "for actor in sorted_actor2movie[:10]:\n",
    "    print actor, len(actor2movie[actor]), page_rank[g.vs.find(actor).index]"
   ]
  },
  {
   "cell_type": "markdown",
   "metadata": {
    "collapsed": true
   },
   "source": [
    "### Problem 4\n",
    "Construct a movie network according to the set of actors/actresses, with weight assigned as the jaccard index of the actor sets of 2 movies. Now we have an undirected network instead."
   ]
  },
  {
   "cell_type": "code",
   "execution_count": null,
   "metadata": {
    "collapsed": true
   },
   "outputs": [],
   "source": [
    "# helper function that computes jaccard index of two set\n",
    "def jaccard_index(first_set, second_set):\n",
    "    \"\"\" Computes jaccard index of two sets\n",
    "        Arguments:\n",
    "          first_set(set):\n",
    "          second_set(set):\n",
    "        Returns:\n",
    "          index(float): Jaccard index between two sets; it is \n",
    "            between 0.0 and 1.0\n",
    "    \"\"\"\n",
    "    # If both sets are empty, jaccard index is defined to be 1\n",
    "    index = 1.0\n",
    "    if first_set or second_set:\n",
    "        index = (float(len(first_set.intersection(second_set))) / len(first_set.union(second_set)))\n",
    "\n",
    "    return index\n"
   ]
  },
  {
   "cell_type": "code",
   "execution_count": null,
   "metadata": {
    "collapsed": true
   },
   "outputs": [],
   "source": [
    "combine(\"combined_0.txt\", 0)"
   ]
  },
  {
   "cell_type": "code",
   "execution_count": null,
   "metadata": {
    "collapsed": true
   },
   "outputs": [],
   "source": [
    "# create dictionaries\n",
    "actor2movie_m = defaultdict(list)\n",
    "movie2actor_m = defaultdict(set)\n",
    "\n",
    "with open(\"./project_2_data/combined_0.txt\", \"r\") as infile:\n",
    "    for line in infile:\n",
    "        arr = line.strip().translate(None, \"&$ \").split(\"\\t\\t\")\n",
    "        for i in range(1, len(arr)):\n",
    "            actor2movie_m[arr[0]].append(arr[i])\n",
    "            movie2actor_m[arr[i]].add(arr[0])"
   ]
  },
  {
   "cell_type": "code",
   "execution_count": null,
   "metadata": {},
   "outputs": [],
   "source": [
    "# remove movies that have less than 10 actors\n",
    "threshold = 10\n",
    "movie2actor_m_less = {}\n",
    "for movie, actors in movie2actor_m.iteritems():\n",
    "    if len(actors) >= threshold:\n",
    "        movie2actor_m_less[movie] = actors\n",
    "        \n",
    "print len(movie2actor_m_less)"
   ]
  },
  {
   "cell_type": "code",
   "execution_count": null,
   "metadata": {
    "collapsed": true
   },
   "outputs": [],
   "source": [
    "pickle.dump(movie2actor_m_less, open(\"movie2actor_m_less.pkl\", \"wb\" ))\n",
    "pickle.dump(actor2movie_m, open(\"actor2movie_m.pkl\", \"wb\" ))\n"
   ]
  },
  {
   "cell_type": "code",
   "execution_count": null,
   "metadata": {},
   "outputs": [],
   "source": [
    "# create edge list for movie with at least 5 actors/actresses\n",
    "e_count = 0\n",
    "v_count = 0\n",
    "# outfile = open(\"./movie_edgelist.txt\", \"w\")\n",
    "\n",
    "processed_movies = set()\n",
    "for i, i_actors in movie2actor_m_less.iteritems():\n",
    "    for j, j_actors in movie2actor_m_less.iteritems():\n",
    "        # TODO: check whether they have intersections\n",
    "        #if j in processed_movies or i == j or i_actors.isdisjoint(j_actors):\n",
    "        #    continue\n",
    "        # add edge\n",
    "        e_count = e_count + 1\n",
    "    #processed_movies.add(i)\n",
    "# outfile.close()\n",
    "print e_count"
   ]
  },
  {
   "cell_type": "code",
   "execution_count": null,
   "metadata": {},
   "outputs": [],
   "source": [
    "print v_count"
   ]
  },
  {
   "cell_type": "code",
   "execution_count": null,
   "metadata": {
    "collapsed": true
   },
   "outputs": [],
   "source": [
    "print e_count"
   ]
  },
  {
   "cell_type": "code",
   "execution_count": null,
   "metadata": {},
   "outputs": [],
   "source": [
    "s1 = set([1,2,3])\n",
    "print s1\n",
    "s2 = set([3, 4,5])\n",
    "print s2\n",
    "s1.isdisjoint(s2)"
   ]
  },
  {
   "cell_type": "code",
   "execution_count": null,
   "metadata": {},
   "outputs": [],
   "source": [
    "len(movie2actor_m_less)"
   ]
  },
  {
   "cell_type": "code",
   "execution_count": null,
   "metadata": {
    "collapsed": true
   },
   "outputs": [],
   "source": []
  }
 ],
 "metadata": {
  "anaconda-cloud": {},
  "kernelspec": {
   "display_name": "Python 2",
   "language": "python",
   "name": "python2"
  },
  "language_info": {
   "codemirror_mode": {
    "name": "ipython",
    "version": 2
   },
   "file_extension": ".py",
   "mimetype": "text/x-python",
   "name": "python",
   "nbconvert_exporter": "python",
   "pygments_lexer": "ipython2",
   "version": "2.7.13"
  }
 },
 "nbformat": 4,
 "nbformat_minor": 1
}
