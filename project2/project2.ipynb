{
 "cells": [
  {
   "cell_type": "markdown",
   "metadata": {},
   "source": [
    "## EE232E Project 2\n",
    "### Problem 1"
   ]
  },
  {
   "cell_type": "code",
   "execution_count": null,
   "metadata": {},
   "outputs": [],
   "source": [
    "import os\n",
    "for file in os.listdir(\"project_2_data\"):\n",
    "    print(file)"
   ]
  },
  {
   "cell_type": "code",
   "execution_count": null,
   "metadata": {},
   "outputs": [],
   "source": [
    "import igraph\n",
    "from collections import defaultdict\n",
    "actor2movie = defaultdict(list)\n",
    "movie2actor = defaultdict(list)"
   ]
  },
  {
   "cell_type": "code",
   "execution_count": null,
   "metadata": {},
   "outputs": [],
   "source": [
    "outfile = open(\"./project_2_data/combined.txt\", \"w\")\n",
    "\n",
    "with open(\"./project_2_data/actor_movies.txt\", \"rb\") as infile:\n",
    "    for line in infile:\n",
    "        arr = line.split(\"\\t\\t\")\n",
    "        if len(arr) > 10:\n",
    "            outfile.write(line)\n",
    "with open(\"./project_2_data/actress_movies.txt\", \"rb\") as infile:\n",
    "    for line in infile:\n",
    "        arr = line.strip().split(\"\\t\\t\")\n",
    "        if len(arr) > 10:\n",
    "            outfile.write(line)\n",
    "outfile.close()"
   ]
  },
  {
   "cell_type": "code",
   "execution_count": null,
   "metadata": {},
   "outputs": [],
   "source": [
    "with open(\"./project_2_data/combined.txt\", \"r\") as infile:\n",
    "    for line in infile:\n",
    "        arr = line.strip().translate(None, \"&$ \").split(\"\\t\\t\")\n",
    "        for i in range(1, len(arr)):\n",
    "            actor2movie[arr[0]].append(arr[i])\n",
    "            movie2actor[arr[i]].append(arr[0])\n"
   ]
  },
  {
   "cell_type": "code",
   "execution_count": null,
   "metadata": {},
   "outputs": [],
   "source": [
    "print len(actor2movie)\n",
    "print len(movie2actor)"
   ]
  },
  {
   "cell_type": "code",
   "execution_count": null,
   "metadata": {
    "collapsed": true
   },
   "outputs": [],
   "source": []
  }
 ],
 "metadata": {
  "anaconda-cloud": {},
  "kernelspec": {
   "display_name": "Python 2",
   "language": "python",
   "name": "python2"
  },
  "language_info": {
   "codemirror_mode": {
    "name": "ipython",
    "version": 2
   },
   "file_extension": ".py",
   "mimetype": "text/x-python",
   "name": "python",
   "nbconvert_exporter": "python",
   "pygments_lexer": "ipython2",
   "version": "2.7.13"
  }
 },
 "nbformat": 4,
 "nbformat_minor": 1
}
