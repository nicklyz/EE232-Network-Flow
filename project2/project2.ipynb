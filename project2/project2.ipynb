{
 "cells": [
  {
   "cell_type": "markdown",
   "metadata": {},
   "source": [
    "## EE232E Project 2\n",
    "### Problem 1"
   ]
  },
  {
   "cell_type": "code",
   "execution_count": 1,
   "metadata": {
    "collapsed": true
   },
   "outputs": [],
   "source": [
    "from igraph import *\n",
    "from collections import defaultdict"
   ]
  },
  {
   "cell_type": "code",
   "execution_count": null,
   "metadata": {
    "collapsed": true
   },
   "outputs": [],
   "source": [
    "outfile = open(\"./project_2_data/combined.txt\", \"w\")\n",
    "threshold = 10\n",
    "with open(\"./project_2_data/actor_movies.txt\", \"rb\") as infile:\n",
    "    for line in infile:\n",
    "        arr = line.split(\"\\t\\t\")\n",
    "        if len(arr) > threshold:\n",
    "            outfile.write(line)\n",
    "with open(\"./project_2_data/actress_movies.txt\", \"rb\") as infile:\n",
    "    for line in infile:\n",
    "        arr = line.strip().split(\"\\t\\t\")\n",
    "        if len(arr) > threshold:\n",
    "            outfile.write(line)\n",
    "outfile.close()"
   ]
  },
  {
   "cell_type": "markdown",
   "metadata": {},
   "source": [
    "### Problem 2\n",
    "Construct a weighted directed graph $G(V, E)$ from the list, while:\n",
    "\n",
    "$V = \\text{all actors/actresses in the list.} $\n",
    "\n",
    "$S_i = \\{m | i \\in V, m \\text{ is a movie in which } i \\text{ has acted.}$\n",
    "\n",
    "$ E = \\{(i,j)|i,j ∈ V,S_i \\cap S_j \\neq ∅\\} \\text{ and for each directed Edge } i → j, \\text{ a weight is assigned as } \\frac{|S_i \\cap S_j|}{|S_i|}.$"
   ]
  },
  {
   "cell_type": "code",
   "execution_count": null,
   "metadata": {
    "collapsed": true
   },
   "outputs": [],
   "source": [
    "actor2movie = defaultdict(list)\n",
    "movie2actor = defaultdict(list)\n",
    "\n",
    "with open(\"./project_2_data/combined.txt\", \"r\") as infile:\n",
    "    for line in infile:\n",
    "        arr = line.strip().translate(None, \"&$ \").split(\"\\t\\t\")\n",
    "        for i in range(1, len(arr)):\n",
    "            actor2movie[arr[0]].append(arr[i])\n",
    "            movie2actor[arr[i]].append(arr[0])\n"
   ]
  },
  {
   "cell_type": "code",
   "execution_count": 2,
   "metadata": {
    "collapsed": true
   },
   "outputs": [],
   "source": [
    "import pickle\n",
    "# use pickle to save the actor2movie dict and movie2actor dict\n",
    "# pickle.dump(actor2movie, open(\"actor2movie.pkl\", \"wb\" ))\n",
    "# pickle.dump(movie2actor, open(\"movie2actor.pkl\", \"wb\" ))\n",
    "\n",
    "# uncomment this to load pickle file\n",
    "actor2movie = pickle.load(open(\"actor2movie.pkl\", \"rb\" ))\n",
    "movie2actor = pickle.load(open(\"movie2actor.pkl\", \"rb\" ))\n",
    "\n"
   ]
  },
  {
   "cell_type": "code",
   "execution_count": null,
   "metadata": {
    "collapsed": true
   },
   "outputs": [],
   "source": [
    "# create edge list\n",
    "count = 0\n",
    "\n",
    "outfile = open(\"./edgelist.txt\", \"w\")\n",
    "\n",
    "for i, movies in actor2movie.iteritems():\n",
    "    # for an actor i, get the list of actors that appear in the same movie\n",
    "    i2k = defaultdict(int)\n",
    "    for j in movies:\n",
    "        for k in movie2actor[j]:\n",
    "            i2k[k]=i2k[k]+1\n",
    "    for k, w in i2k.iteritems():\n",
    "        weight = float(w) / len(movies)\n",
    "        # g.add_edge(i, k, weight=weight)\n",
    "        line = i + '\\t' + k + '\\t' + str(weight) + '\\n'\n",
    "        outfile.write(line)\n",
    "        count = count + 1\n",
    "print(count)\n",
    "outfile.close()"
   ]
  },
  {
   "cell_type": "code",
   "execution_count": 3,
   "metadata": {},
   "outputs": [
    {
     "name": "stdout",
     "output_type": "stream",
     "text": [
      "113129\n",
      "25903265\n"
     ]
    }
   ],
   "source": [
    "g = Graph.Read_Ncol('edgelist.txt', directed=True)\n",
    "print(g.vcount())\n",
    "print(g.ecount())"
   ]
  },
  {
   "cell_type": "markdown",
   "metadata": {},
   "source": [
    "### Problem 3\n",
    "Run the Page Rank algorithm on the network. And list the top then actors according to page rank."
   ]
  },
  {
   "cell_type": "code",
   "execution_count": 4,
   "metadata": {
    "collapsed": true
   },
   "outputs": [],
   "source": [
    "page_rank = g.pagerank(vertices=None, directed=True)"
   ]
  },
  {
   "cell_type": "code",
   "execution_count": 5,
   "metadata": {
    "collapsed": true
   },
   "outputs": [],
   "source": [
    "sorted_pr = sorted(range(len(page_rank)), key=lambda k: page_rank[k], reverse=True)"
   ]
  },
  {
   "cell_type": "code",
   "execution_count": 43,
   "metadata": {},
   "outputs": [
    {
     "name": "stdout",
     "output_type": "stream",
     "text": [
      "Roberts,Eric(I) 298 0.000126941657071\n",
      "Jeremy,Ron 637 0.000106443168928\n",
      "Trejo,Danny 241 0.000106343502328\n",
      "Flowers,Bess 828 0.000100092467495\n",
      "Riehle,Richard 197 9.70123730473e-05\n",
      "David,Keith(I) 178 9.01901768746e-05\n",
      "Harris,Sam(II) 600 8.93933290134e-05\n",
      "Kaufman,Lloyd 301 8.7001456383e-05\n",
      "Madsen,Michael(I) 218 8.6824507889e-05\n",
      "Jackson,SamuelL. 159 8.47608644893e-05\n"
     ]
    }
   ],
   "source": [
    "for actor in g.vs[sorted_pr[0:10]][\"name\"]:\n",
    "    print actor, len(actor2movie[actor]), page_rank[g.vs.find(actor).index]"
   ]
  },
  {
   "cell_type": "code",
   "execution_count": 41,
   "metadata": {},
   "outputs": [
    {
     "name": "stdout",
     "output_type": "stream",
     "text": [
      "Blanc,Mel 1065 1.06620164461e-05\n",
      "Brahmanandam 973 3.60927886012e-05\n",
      "Onoe,Matsunosuke 927 8.13233828772e-06\n",
      "Flowers,Bess 828 0.000100092467495\n",
      "Hack,Herman 668 3.77710838846e-05\n",
      "Phelps,Lee(I) 647 7.08439653641e-05\n",
      "Jeremy,Ron 637 0.000106443168928\n",
      "Cobb,Edmund 633 5.63713647626e-05\n",
      "O'Connor,Frank(I) 623 6.78001730158e-05\n",
      "Kapoor,Shakti 618 4.86308269766e-05\n"
     ]
    }
   ],
   "source": [
    "# sort by number of movies appeared in\n",
    "sorted_actor2movie = sorted(actor2movie, key=lambda k: len(actor2movie[k]), reverse=True)\n",
    "for actor in sorted_actor2movie[:10]:\n",
    "    print actor, len(actor2movie[actor]), page_rank[g.vs.find(actor).index]"
   ]
  },
  {
   "cell_type": "code",
   "execution_count": null,
   "metadata": {
    "collapsed": true
   },
   "outputs": [],
   "source": []
  }
 ],
 "metadata": {
  "anaconda-cloud": {},
  "kernelspec": {
   "display_name": "Python 2",
   "language": "python",
   "name": "python2"
  },
  "language_info": {
   "codemirror_mode": {
    "name": "ipython",
    "version": 2
   },
   "file_extension": ".py",
   "mimetype": "text/x-python",
   "name": "python",
   "nbconvert_exporter": "python",
   "pygments_lexer": "ipython2",
   "version": "2.7.13"
  }
 },
 "nbformat": 4,
 "nbformat_minor": 1
}
