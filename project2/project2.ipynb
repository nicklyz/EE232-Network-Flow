{
 "cells": [
  {
   "cell_type": "markdown",
   "metadata": {},
   "source": [
    "## EE232E Project 2\n",
    "### Problem 1\n",
    "Data preprocessing\n"
   ]
  },
  {
   "cell_type": "code",
   "execution_count": 1,
   "metadata": {
    "collapsed": true
   },
   "outputs": [],
   "source": [
    "from igraph import *\n",
    "from collections import defaultdict\n",
    "import string\n",
    "import pickle\n",
    "import re\n",
    "from tqdm import tqdm as timer"
   ]
  },
  {
   "cell_type": "code",
   "execution_count": 2,
   "metadata": {
    "collapsed": true
   },
   "outputs": [],
   "source": [
    "def clean_string(s):\n",
    "    return(re.sub(r'\\(.*\\)|\\{.*\\}|\\'|\\\"', \"\", s).lstrip().rstrip())"
   ]
  },
  {
   "cell_type": "code",
   "execution_count": 3,
   "metadata": {},
   "outputs": [
    {
     "name": "stderr",
     "output_type": "stream",
     "text": [
      "actor_movies.txt: 100%|██████████| 2167653/2167653 [00:23<00:00, 91322.86it/s] \n",
      "actress_movies.txt: 100%|██████████| 1182813/1182813 [00:09<00:00, 127143.69it/s]\n"
     ]
    }
   ],
   "source": [
    "infiles = [\"./project_2_data/actor_movies.txt\", \"./project_2_data/actress_movies.txt\"]\n",
    "printable = set(string.printable)\n",
    "fl = {\"./project_2_data/actor_movies.txt\": 2167653, \"./project_2_data/actress_movies.txt\": 1182813}\n",
    "\n",
    "A2M = defaultdict(set)\n",
    "M2A = defaultdict(set)\n",
    "\n",
    "for f in infiles:\n",
    "    with open(f, \"rb\") as infile:\n",
    "        for line in timer(infile, total=fl[f], desc=f.split('/')[2]):\n",
    "            if line.count(\"\\t\\t\") <= 10:\n",
    "                continue\n",
    "            line = filter(lambda x : x in printable, line.strip().translate(None, \"&$ \"))\n",
    "            arr = line.split(\"\\t\\t\")\n",
    "            \n",
    "            actor = arr[0]\n",
    "            movies = map(clean_string, arr[1:])\n",
    "            \n",
    "            for m in movies:\n",
    "                A2M[actor].add(m)\n",
    "                M2A[m].add(actor)\n"
   ]
  },
  {
   "cell_type": "code",
   "execution_count": 4,
   "metadata": {},
   "outputs": [
    {
     "name": "stdout",
     "output_type": "stream",
     "text": [
      "393715\n",
      "101124\n"
     ]
    }
   ],
   "source": [
    "print len(M2A)\n",
    "print len(A2M)"
   ]
  },
  {
   "cell_type": "code",
   "execution_count": 5,
   "metadata": {
    "collapsed": true
   },
   "outputs": [],
   "source": [
    "# remove movies that have less than 10 actors in it.\n",
    "large_movies = set(filter(lambda x : len(M2A[x]) > 10, M2A.keys()))\n",
    "A2M = {actor : movies.intersection(large_movies) for (actor, movies) in A2M.iteritems()}\n",
    "A2M = {actor : movies for (actor, movies) in A2M.iteritems() if len(movies) > 0}\n",
    "M2A = {movie : actors for (movie, actors) in M2A.iteritems() if len(actors) > 10}"
   ]
  },
  {
   "cell_type": "code",
   "execution_count": 6,
   "metadata": {},
   "outputs": [
    {
     "name": "stdout",
     "output_type": "stream",
     "text": [
      "99652\n",
      "90829\n"
     ]
    }
   ],
   "source": [
    "print len(A2M)\n",
    "print len(M2A)"
   ]
  },
  {
   "cell_type": "code",
   "execution_count": 7,
   "metadata": {},
   "outputs": [
    {
     "name": "stdout",
     "output_type": "stream",
     "text": [
      "\n"
     ]
    }
   ],
   "source": [
    "# uncomment this to save dictionary to local file\n",
    "# pickle.dump(A2M, open(\"A2M.pkl\", \"wb\" ))\n",
    "# pickle.dump(M2A, open(\"M2A.pkl\", \"wb\" ))\n",
    "\n",
    "# uncomment this to load dictionary from local file\n",
    "# A2M = pickle.load(open(\"A2M.pkl\", \"rb\" ))\n",
    "# M2A = pickle.load(open(\"M2A.pkl\", \"rb\" ))"
   ]
  },
  {
   "cell_type": "markdown",
   "metadata": {},
   "source": [
    "### Problem 2\n",
    "Construct a weighted directed graph $G(V, E)$ from the list, while:\n",
    "\n",
    "$V = \\text{all actors/actresses in the list.} $\n",
    "\n",
    "$S_i = \\{m | i \\in V, m \\text{ is a movie in which } i \\text{ has acted.} \\}$\n",
    "\n",
    "$ E = \\{(i,j)|i,j ∈ V,S_i \\cap S_j \\neq ∅\\} \\text{ and for each directed Edge } i → j, \\text{ a weight is assigned as } \\frac{|S_i \\cap S_j|}{|S_i|}.$"
   ]
  },
  {
   "cell_type": "code",
   "execution_count": 7,
   "metadata": {},
   "outputs": [
    {
     "name": "stderr",
     "output_type": "stream",
     "text": [
      "100%|██████████| 99652/99652 [02:04<00:00, 797.64it/s] "
     ]
    },
    {
     "name": "stdout",
     "output_type": "stream",
     "text": [
      "42135556\n"
     ]
    },
    {
     "name": "stderr",
     "output_type": "stream",
     "text": [
      "\n"
     ]
    }
   ],
   "source": [
    "# create edge list\n",
    "count = 0\n",
    "outfile = open(\"actor_edgelist.txt\", \"w\")\n",
    "\n",
    "for i, movies in timer(A2M.iteritems(), total=len(A2M)):\n",
    "    # for an actor i, get the list of actors that appear in the same movie\n",
    "    i2k = defaultdict(int)\n",
    "    for j in movies:\n",
    "        for k in M2A[j]:\n",
    "            i2k[k]=i2k[k]+1\n",
    "    for k, w in i2k.iteritems():\n",
    "        weight = float(w) / len(movies)\n",
    "        line = i + '\\t' + k + '\\t' + str(weight) + '\\n'\n",
    "        outfile.write(line)\n",
    "        count = count + 1\n",
    "outfile.close()\n",
    "print(count)"
   ]
  },
  {
   "cell_type": "code",
   "execution_count": 8,
   "metadata": {},
   "outputs": [
    {
     "name": "stdout",
     "output_type": "stream",
     "text": [
      "99652\n",
      "42135556\n"
     ]
    }
   ],
   "source": [
    "g = Graph.Read_Ncol('actor_edgelist.txt', directed=True)\n",
    "print(g.vcount())\n",
    "print(g.ecount())"
   ]
  },
  {
   "cell_type": "markdown",
   "metadata": {},
   "source": [
    "### Problem 3\n",
    "Run the Page Rank algorithm on the network. And list the top 10 actors according to page rank.\n",
    "We also listed the top 10 actors ranked by the number of movie he/she has acted in."
   ]
  },
  {
   "cell_type": "code",
   "execution_count": 9,
   "metadata": {
    "collapsed": true
   },
   "outputs": [],
   "source": [
    "page_rank = g.pagerank(vertices=None, directed=True)"
   ]
  },
  {
   "cell_type": "code",
   "execution_count": 10,
   "metadata": {
    "collapsed": true
   },
   "outputs": [],
   "source": [
    "sorted_pr = sorted(range(len(page_rank)), key=lambda k: page_rank[k], reverse=True)"
   ]
  },
  {
   "cell_type": "code",
   "execution_count": 11,
   "metadata": {},
   "outputs": [
    {
     "name": "stdout",
     "output_type": "stream",
     "text": [
      "Flowers,Bess 805 0.000169725991509\n",
      "Harris,Sam(II) 597 0.000150382724082\n",
      "Miller,Harold(I) 539 0.000137468550569\n",
      "O'Brien,WilliamH. 429 0.000126034754989\n",
      "Phelps,Lee(I) 626 0.000120617852981\n",
      "Farnum,Franklyn 501 0.000119871477784\n",
      "Sayre,Jeffrey 426 0.000118709515362\n",
      "Holmes,Stuart(I) 436 0.000118149243475\n",
      "Kemp,KennerG. 418 0.000116642508959\n",
      "Steers,Larry 503 0.000112738752365\n"
     ]
    }
   ],
   "source": [
    "for actor in g.vs[sorted_pr[0:10]][\"name\"]:\n",
    "    print actor, len(A2M[actor]), page_rank[g.vs.find(actor).index]"
   ]
  },
  {
   "cell_type": "code",
   "execution_count": 12,
   "metadata": {},
   "outputs": [
    {
     "name": "stdout",
     "output_type": "stream",
     "text": [
      "Flowers,Bess 805 0.000169725991509\n",
      "Hack,Herman 657 6.79674356665e-05\n",
      "Phelps,Lee(I) 626 0.000120617852981\n",
      "O'Connor,Frank(I) 600 0.000104628883412\n",
      "Harris,Sam(II) 597 0.000150382724082\n",
      "Miller,Harold(I) 539 0.000137468550569\n",
      "Ellis,Frank(I) 523 6.65203059111e-05\n",
      "London,Tom 515 8.59840797624e-05\n",
      "Steers,Larry 503 0.000112738752365\n",
      "Farnum,Franklyn 501 0.000119871477784\n"
     ]
    }
   ],
   "source": [
    "# sort by number of movies appeared in\n",
    "sorted_A2M = sorted(A2M, key=lambda k: len(A2M[k]), reverse=True)\n",
    "for actor in sorted_A2M[:10]:\n",
    "    print actor, len(A2M[actor]), page_rank[g.vs.find(actor).index]"
   ]
  },
  {
   "cell_type": "code",
   "execution_count": 13,
   "metadata": {},
   "outputs": [
    {
     "data": {
      "text/plain": [
       "99652"
      ]
     },
     "execution_count": 13,
     "metadata": {},
     "output_type": "execute_result"
    }
   ],
   "source": [
    "A2PR = {}\n",
    "for idx, v in enumerate(g.vs):\n",
    "    A2PR[v[\"name\"]] = page_rank[idx]\n",
    "len(A2PR)"
   ]
  },
  {
   "cell_type": "code",
   "execution_count": 14,
   "metadata": {
    "collapsed": true
   },
   "outputs": [],
   "source": [
    "# save the data for later\n",
    "pickle.dump(A2PR, open(\"A2PR.pkl\", \"wb\"))"
   ]
  },
  {
   "cell_type": "markdown",
   "metadata": {
    "collapsed": true
   },
   "source": [
    "### Problem 4\n",
    "Construct a movie network according to the set of actors/actresses, with weight assigned as the jaccard index of the actor sets of 2 movies. Now we have an undirected network instead."
   ]
  },
  {
   "cell_type": "code",
   "execution_count": 15,
   "metadata": {
    "collapsed": true
   },
   "outputs": [],
   "source": [
    "# helper function that computes jaccard index of two set\n",
    "def jaccard_index(first_set, second_set):\n",
    "    \"\"\" Computes jaccard index of two sets\n",
    "        Arguments:\n",
    "          first_set(set):\n",
    "          second_set(set):\n",
    "        Returns:\n",
    "          index(float): Jaccard index between two sets; it is \n",
    "            between 0.0 and 1.0\n",
    "    \"\"\"\n",
    "    # If both sets are empty, jaccard index is defined to be 1\n",
    "    index = 1.0\n",
    "    if first_set or second_set:\n",
    "        index = (float(len(first_set.intersection(second_set))) / len(first_set.union(second_set)))\n",
    "\n",
    "    return index\n"
   ]
  },
  {
   "cell_type": "code",
   "execution_count": 16,
   "metadata": {},
   "outputs": [
    {
     "name": "stderr",
     "output_type": "stream",
     "text": [
      "100%|██████████| 90829/90829 [11:29<00:00, 131.64it/s] "
     ]
    },
    {
     "name": "stdout",
     "output_type": "stream",
     "text": [
      "41030666\n"
     ]
    },
    {
     "name": "stderr",
     "output_type": "stream",
     "text": [
      "\n"
     ]
    }
   ],
   "source": [
    "# create movie edge list for movie with at least 10 actors/actresses\n",
    "count = 0\n",
    "outfile = open(\"movie_edgelist.txt\", \"w\")\n",
    "\n",
    "processed_movie = set()\n",
    "for i, actors in timer(M2A.iteritems(), total=len(M2A)):\n",
    "    # for a movie i, get the list of movies that share some actors\n",
    "    if i == \"\" or len(actors) < 10:\n",
    "        continue\n",
    "    unique_movies = set()\n",
    "    for j in actors:\n",
    "        for k in A2M[j]:\n",
    "            if k in processed_movie:\n",
    "                continue\n",
    "            weight = jaccard_index(actors, M2A[k])\n",
    "            unique_movies.add( (k, weight) )\n",
    "    for (k, weight) in unique_movies:\n",
    "        line = i + '\\t' + k + '\\t' + str(weight) + '\\n'\n",
    "        outfile.write(line)\n",
    "        count = count + 1\n",
    "    processed_movie.add(i)\n",
    "#     for k, w in i2k.iteritems():\n",
    "#         weight = jaccard_index()\n",
    "#         line = i + '\\t' + k + '\\t' + str(weight) + '\\n'\n",
    "#         outfile.write(line)\n",
    "#         count = count + 1\n",
    "outfile.close()\n",
    "print(count)"
   ]
  },
  {
   "cell_type": "code",
   "execution_count": 17,
   "metadata": {
    "collapsed": true
   },
   "outputs": [],
   "source": [
    "# construct the movie graph\n",
    "movie_g = Graph.Read_Ncol('movie_edgelist.txt', directed=False)"
   ]
  },
  {
   "cell_type": "code",
   "execution_count": 19,
   "metadata": {},
   "outputs": [
    {
     "name": "stdout",
     "output_type": "stream",
     "text": [
      "91123\n",
      "41030666\n"
     ]
    }
   ],
   "source": [
    "print movie_g.vcount()\n",
    "print movie_g.ecount()"
   ]
  },
  {
   "cell_type": "markdown",
   "metadata": {},
   "source": [
    "### Problem 5\n",
    "Community finding"
   ]
  },
  {
   "cell_type": "code",
   "execution_count": 20,
   "metadata": {},
   "outputs": [
    {
     "name": "stderr",
     "output_type": "stream",
     "text": [
      "movie_genre.txt: 100%|██████████| 1010991/1010991 [00:13<00:00, 73065.85it/s]\n"
     ]
    }
   ],
   "source": [
    "# a dictionary that maps movie to genre\n",
    "M2G = {}\n",
    "printable = set(string.printable)\n",
    "\n",
    "with open('./project_2_data/movie_genre.txt', 'rb') as infile:\n",
    "    for line in timer(infile, total=1010991, desc=\"movie_genre.txt\"):\n",
    "        line = filter(lambda x : x in printable, line.strip().translate(None, \"&$ \"))\n",
    "        arr = line.split('\\t\\t')\n",
    "        movie = clean_string(arr[0])\n",
    "        genre = clean_string(arr[1])\n",
    "        \n",
    "        if movie in M2A:\n",
    "            M2G[movie] = genre"
   ]
  },
  {
   "cell_type": "code",
   "execution_count": 27,
   "metadata": {},
   "outputs": [
    {
     "ename": "KeyboardInterrupt",
     "evalue": "",
     "output_type": "error",
     "traceback": [
      "\u001b[0;31m---------------------------------------------------------------------------\u001b[0m",
      "\u001b[0;31mKeyboardInterrupt\u001b[0m                         Traceback (most recent call last)",
      "\u001b[0;32m<ipython-input-27-d55d14b55a2c>\u001b[0m in \u001b[0;36m<module>\u001b[0;34m()\u001b[0m\n\u001b[1;32m      2\u001b[0m \u001b[0;32mimport\u001b[0m \u001b[0mtime\u001b[0m\u001b[0;34m\u001b[0m\u001b[0m\n\u001b[1;32m      3\u001b[0m \u001b[0mstart_time\u001b[0m \u001b[0;34m=\u001b[0m \u001b[0mtime\u001b[0m\u001b[0;34m.\u001b[0m\u001b[0mtime\u001b[0m\u001b[0;34m(\u001b[0m\u001b[0;34m)\u001b[0m\u001b[0;34m\u001b[0m\u001b[0m\n\u001b[0;32m----> 4\u001b[0;31m \u001b[0mresult\u001b[0m \u001b[0;34m=\u001b[0m \u001b[0mmovie_g\u001b[0m\u001b[0;34m.\u001b[0m\u001b[0mcommunity_fastgreedy\u001b[0m\u001b[0;34m(\u001b[0m\u001b[0;34m)\u001b[0m\u001b[0;34m\u001b[0m\u001b[0m\n\u001b[0m\u001b[1;32m      5\u001b[0m \u001b[0;32mprint\u001b[0m\u001b[0;34m(\u001b[0m\u001b[0;34m\"--- %s minutes ---\"\u001b[0m \u001b[0;34m%\u001b[0m \u001b[0;34m(\u001b[0m\u001b[0;34m(\u001b[0m\u001b[0mtime\u001b[0m\u001b[0;34m.\u001b[0m\u001b[0mtime\u001b[0m\u001b[0;34m(\u001b[0m\u001b[0;34m)\u001b[0m \u001b[0;34m-\u001b[0m \u001b[0mstart_time\u001b[0m\u001b[0;34m)\u001b[0m\u001b[0;34m/\u001b[0m\u001b[0;36m60.0\u001b[0m\u001b[0;34m)\u001b[0m\u001b[0;34m)\u001b[0m\u001b[0;34m\u001b[0m\u001b[0m\n",
      "\u001b[0;32m/Users/NickLiu/anaconda/envs/py27/lib/python2.7/site-packages/python_igraph-0.7.1.post6-py2.7-macosx-10.5-x86_64.egg/igraph/__init__.py\u001b[0m in \u001b[0;36mcommunity_fastgreedy\u001b[0;34m(self, weights)\u001b[0m\n\u001b[1;32m    959\u001b[0m           \u001b[0;32min\u001b[0m \u001b[0mvery\u001b[0m \u001b[0mlarge\u001b[0m \u001b[0mnetworks\u001b[0m\u001b[0;34m.\u001b[0m \u001b[0mPhys\u001b[0m \u001b[0mRev\u001b[0m \u001b[0mE\u001b[0m \u001b[0;36m70\u001b[0m\u001b[0;34m,\u001b[0m \u001b[0;36m066111\u001b[0m \u001b[0;34m(\u001b[0m\u001b[0;36m2004\u001b[0m\u001b[0;34m)\u001b[0m\u001b[0;34m.\u001b[0m\u001b[0;34m\u001b[0m\u001b[0m\n\u001b[1;32m    960\u001b[0m         \"\"\"\n\u001b[0;32m--> 961\u001b[0;31m         \u001b[0mmerges\u001b[0m\u001b[0;34m,\u001b[0m \u001b[0mqs\u001b[0m \u001b[0;34m=\u001b[0m \u001b[0mGraphBase\u001b[0m\u001b[0;34m.\u001b[0m\u001b[0mcommunity_fastgreedy\u001b[0m\u001b[0;34m(\u001b[0m\u001b[0mself\u001b[0m\u001b[0;34m,\u001b[0m \u001b[0mweights\u001b[0m\u001b[0;34m)\u001b[0m\u001b[0;34m\u001b[0m\u001b[0m\n\u001b[0m\u001b[1;32m    962\u001b[0m \u001b[0;34m\u001b[0m\u001b[0m\n\u001b[1;32m    963\u001b[0m         \u001b[0;31m# qs may be shorter than |V|-1 if we are left with a few separated\u001b[0m\u001b[0;34m\u001b[0m\u001b[0;34m\u001b[0m\u001b[0m\n",
      "\u001b[0;31mKeyboardInterrupt\u001b[0m: "
     ]
    }
   ],
   "source": [
    "# This process takes extremely long time 10+ hrs\n",
    "import time\n",
    "start_time = time.time()\n",
    "result = movie_g.community_fastgreedy()\n",
    "print(\"--- %s minutes ---\" % ((time.time() - start_time)/60.0))"
   ]
  },
  {
   "cell_type": "code",
   "execution_count": 22,
   "metadata": {},
   "outputs": [],
   "source": [
    "test_movies = [\n",
    "    \"Batman v Superman: Dawn of Justice (2016)\",\n",
    "    \"Mission: Impossible - Rogue Nation (2015)\",\n",
    "    \"Minions (2015)\"\n",
    "]\n",
    "clean_test_movies = []\n",
    "for movie in test_movies:\n",
    "    clean_test_movies.append(clean_string(movie.translate(None, \"&$ \")))"
   ]
  },
  {
   "cell_type": "code",
   "execution_count": 26,
   "metadata": {},
   "outputs": [
    {
     "name": "stdout",
     "output_type": "stream",
     "text": [
      "igraph.Vertex(<igraph.Graph object at 0x108791620>,12353,{'name': 'BatmanvSuperman:DawnofJustice'})\n",
      "igraph.Vertex(<igraph.Graph object at 0x108791620>,64032,{'name': 'Mission:Impossible-RogueNation'})\n",
      "igraph.Vertex(<igraph.Graph object at 0x108791620>,49910,{'name': 'Minions'})\n"
     ]
    }
   ],
   "source": [
    "for movie in clean_test_movies:\n",
    "    print movie_g.vs.find(movie)"
   ]
  },
  {
   "cell_type": "code",
   "execution_count": null,
   "metadata": {
    "collapsed": true
   },
   "outputs": [],
   "source": []
  }
 ],
 "metadata": {
  "anaconda-cloud": {},
  "kernelspec": {
   "display_name": "Python 2",
   "language": "python",
   "name": "python2"
  },
  "language_info": {
   "codemirror_mode": {
    "name": "ipython",
    "version": 2
   },
   "file_extension": ".py",
   "mimetype": "text/x-python",
   "name": "python",
   "nbconvert_exporter": "python",
   "pygments_lexer": "ipython2",
   "version": "2.7.13"
  }
 },
 "nbformat": 4,
 "nbformat_minor": 1
}
