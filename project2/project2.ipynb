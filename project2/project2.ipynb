{
 "cells": [
  {
   "cell_type": "markdown",
   "metadata": {},
   "source": [
    "## EE232E Project 2\n",
    "### Problem 1"
   ]
  },
  {
   "cell_type": "code",
   "execution_count": null,
   "metadata": {
    "collapsed": true
   },
   "outputs": [],
   "source": [
    "from igraph import *\n",
    "from collections import defaultdict"
   ]
  },
  {
   "cell_type": "code",
   "execution_count": null,
   "metadata": {
    "collapsed": true
   },
   "outputs": [],
   "source": [
    "outfile = open(\"./project_2_data/combined.txt\", \"w\")\n",
    "threshold = 10\n",
    "with open(\"./project_2_data/actor_movies.txt\", \"rb\") as infile:\n",
    "    for line in infile:\n",
    "        arr = line.split(\"\\t\\t\")\n",
    "        if len(arr) > threshold:\n",
    "            outfile.write(line)\n",
    "with open(\"./project_2_data/actress_movies.txt\", \"rb\") as infile:\n",
    "    for line in infile:\n",
    "        arr = line.strip().split(\"\\t\\t\")\n",
    "        if len(arr) > threshold:\n",
    "            outfile.write(line)\n",
    "outfile.close()"
   ]
  },
  {
   "cell_type": "markdown",
   "metadata": {},
   "source": [
    "### Problem 2\n",
    "Construct a weighted directed graph $G(V, E)$ from the list, while:\n",
    "\n",
    "$V = \\text{all actors/actresses in the list.} $\n",
    "\n",
    "$S_i = \\{m | i \\in V, m \\text{ is a movie in which } i \\text{ has acted.}$\n",
    "\n",
    "$ E = \\{(i,j)|i,j ∈ V,S_i \\cap S_j \\neq ∅\\} \\text{ and for each directed Edge } i → j, \\text{ a weight is assigned as } \\frac{|S_i \\cap S_j|}{|S_i|}.$"
   ]
  },
  {
   "cell_type": "code",
   "execution_count": null,
   "metadata": {
    "collapsed": true
   },
   "outputs": [],
   "source": [
    "actor2movie = defaultdict(list)\n",
    "movie2actor = defaultdict(list)\n",
    "\n",
    "with open(\"./project_2_data/combined.txt\", \"r\") as infile:\n",
    "    for line in infile:\n",
    "        arr = line.strip().translate(None, \"&$ \").split(\"\\t\\t\")\n",
    "        for i in range(1, len(arr)):\n",
    "            actor2movie[arr[0]].append(arr[i])\n",
    "            movie2actor[arr[i]].append(arr[0])\n"
   ]
  },
  {
   "cell_type": "code",
   "execution_count": null,
   "metadata": {
    "collapsed": true
   },
   "outputs": [],
   "source": [
    "import pickle\n",
    "# use pickle to save the actor2movie dict and movie2actor dict\n",
    "# pickle.dump(actor2movie, open(\"actor2movie.pkl\", \"wb\" ))\n",
    "# pickle.dump(movie2actor, open(\"movie2actor.pkl\", \"wb\" ))\n",
    "\n",
    "# uncomment this to load pickle file\n",
    "actor2movie = pickle.load(open(\"actor2movie.pkl\", \"rb\" ))\n",
    "movie2actor = pickle.load(open(\"movie2actor.pkl\", \"rb\" ))\n",
    "\n"
   ]
  },
  {
   "cell_type": "code",
   "execution_count": null,
   "metadata": {
    "collapsed": true
   },
   "outputs": [],
   "source": [
    "# create directed graph\n",
    "g = Graph(directed=True)\n",
    "# add vertices\n",
    "for i, movies in actor2movie.iteritems():\n",
    "    g.add_vertex(i)"
   ]
  },
  {
   "cell_type": "code",
   "execution_count": null,
   "metadata": {
    "collapsed": true
   },
   "outputs": [],
   "source": [
    "# create edges\n",
    "# WARNING: this step takes extremely long time, have not finished yet.\n",
    "count = 0\n",
    "\n",
    "outfile = open(\"./edgelist.txt\", \"w\")\n",
    "\n",
    "for i, movies in actor2movie.iteritems():\n",
    "    # for an actor i, get the list of actors that appear in the same movie\n",
    "    i2k = defaultdict(int)\n",
    "    for j in movies:\n",
    "        for k in movie2actor[j]:\n",
    "            i2k[k]=i2k[k]+1\n",
    "    for k, w in i2k.iteritems():\n",
    "        weight = float(w) / len(movies)\n",
    "        # g.add_edge(i, k, weight=weight)\n",
    "        line = i + '\\t' + k + '\\t' + str(weight) + '\\n'\n",
    "        outfile.write(line)\n",
    "        count = count + 1\n",
    "print(count)\n",
    "outfile.close()"
   ]
  },
  {
   "cell_type": "code",
   "execution_count": null,
   "metadata": {
    "collapsed": true
   },
   "outputs": [],
   "source": [
    "print(g.vcount())\n",
    "print(g.ecount())"
   ]
  },
  {
   "cell_type": "code",
   "execution_count": null,
   "metadata": {
    "collapsed": true
   },
   "outputs": [],
   "source": [
    "# igraph example\n",
    "\n",
    "e = Graph(directed=True)\n",
    "e.add_vertex(\"nick\")\n",
    "e.add_vertex(\"lisa\")\n",
    "e.add_vertex(\"jennie\")\n",
    "e.add_edge(\"nick\", \"lisa\", weight=1)\n",
    "e.add_edge(\"jennie\", \"nick\", weight=30)\n",
    "visual_style = {}\n",
    "visual_style[\"vertex_size\"] = 20\n",
    "# visual_style[\"vertex_color\"] = [color_dict[gender] for gender in g.vs[\"gender\"]]\n",
    "visual_style[\"vertex_label\"] = e.vs[\"name\"]\n",
    "visual_style[\"edge_width\"] = e.es[\"weight\"]\n",
    "visual_style[\"edge_length\"] = e.es[\"weight\"]\n",
    "# visual_style[\"layout\"] = layout\n",
    "visual_style[\"bbox\"] = (300, 300)\n",
    "visual_style[\"margin\"] = 20\n",
    "plot(e, **visual_style)"
   ]
  },
  {
   "cell_type": "code",
   "execution_count": null,
   "metadata": {
    "collapsed": true
   },
   "outputs": [],
   "source": [
    "with open(\"edgelist.txt\", \"wb\") as outfile:\n",
    "    for i in range(0,5):\n",
    "        line = str(i) + \", \" + str(i + 1) + \", 10\\n\"\n",
    "        outfile.write(line)"
   ]
  },
  {
   "cell_type": "code",
   "execution_count": null,
   "metadata": {
    "collapsed": true
   },
   "outputs": [],
   "source": [
    "g = Graph.Read_Ncol('edgelist.txt', directed=True)"
   ]
  },
  {
   "cell_type": "markdown",
   "metadata": {},
   "source": [
    "### Problem 3\n",
    "Run the Page Rank algorithm on the network. And list the top then actors according to page rank."
   ]
  },
  {
   "cell_type": "code",
   "execution_count": null,
   "metadata": {},
   "outputs": [],
   "source": [
    "page_rank = g.pagerank(vertices=None, directed=True)"
   ]
  },
  {
   "cell_type": "code",
   "execution_count": null,
   "metadata": {},
   "outputs": [],
   "source": [
    "sorted_pr = sorted(range(len(page_rank)), key=lambda k: page_rank[k], reverse=True)"
   ]
  },
  {
   "cell_type": "code",
   "execution_count": null,
   "metadata": {},
   "outputs": [],
   "source": [
    "for name in g.vs[sorted_pr[0:10]][\"name\"]:\n",
    "    print name, len(actor2movie[name])"
   ]
  },
  {
   "cell_type": "code",
   "execution_count": null,
   "metadata": {},
   "outputs": [],
   "source": []
  },
  {
   "cell_type": "code",
   "execution_count": null,
   "metadata": {
    "collapsed": true
   },
   "outputs": [],
   "source": []
  }
 ],
 "metadata": {
  "anaconda-cloud": {},
  "kernelspec": {
   "display_name": "Python 2",
   "language": "python",
   "name": "python2"
  },
  "language_info": {
   "codemirror_mode": {
    "name": "ipython",
    "version": 2
   },
   "file_extension": ".py",
   "mimetype": "text/x-python",
   "name": "python",
   "nbconvert_exporter": "python",
   "pygments_lexer": "ipython2",
   "version": "2.7.13"
  }
 },
 "nbformat": 4,
 "nbformat_minor": 1
}
