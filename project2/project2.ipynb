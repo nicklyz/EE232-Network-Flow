{
 "cells": [
  {
   "cell_type": "markdown",
   "metadata": {},
   "source": [
    "## EE232E Project 2\n",
    "### Problem 1"
   ]
  },
  {
   "cell_type": "code",
   "execution_count": 1,
   "metadata": {
    "collapsed": true
   },
   "outputs": [],
   "source": [
    "from igraph import *\n",
    "from collections import defaultdict"
   ]
  },
  {
   "cell_type": "code",
   "execution_count": 2,
   "metadata": {
    "collapsed": true
   },
   "outputs": [],
   "source": [
    "def combine(outfile, threshold):\n",
    "    outfile = open(\"./project_2_data/\" + outfile, \"w\")\n",
    "\n",
    "    with open(\"./project_2_data/actor_movies.txt\", \"rb\") as infile:\n",
    "        for line in infile:\n",
    "            arr = line.split(\"\\t\\t\")\n",
    "            if len(arr) > threshold:\n",
    "                outfile.write(line)\n",
    "    with open(\"./project_2_data/actress_movies.txt\", \"rb\") as infile:\n",
    "        for line in infile:\n",
    "            arr = line.strip().split(\"\\t\\t\")\n",
    "            if len(arr) > threshold:\n",
    "                outfile.write(line)\n",
    "    outfile.close()"
   ]
  },
  {
   "cell_type": "markdown",
   "metadata": {},
   "source": [
    "### Problem 2\n",
    "Construct a weighted directed graph $G(V, E)$ from the list, while:\n",
    "\n",
    "$V = \\text{all actors/actresses in the list.} $\n",
    "\n",
    "$S_i = \\{m | i \\in V, m \\text{ is a movie in which } i \\text{ has acted.}$\n",
    "\n",
    "$ E = \\{(i,j)|i,j ∈ V,S_i \\cap S_j \\neq ∅\\} \\text{ and for each directed Edge } i → j, \\text{ a weight is assigned as } \\frac{|S_i \\cap S_j|}{|S_i|}.$"
   ]
  },
  {
   "cell_type": "code",
   "execution_count": 3,
   "metadata": {
    "collapsed": true
   },
   "outputs": [],
   "source": [
    "# combine actor and actress into one file\n",
    "combine(\"combined_10.txt\", 10)"
   ]
  },
  {
   "cell_type": "code",
   "execution_count": 5,
   "metadata": {},
   "outputs": [],
   "source": [
    "# create dictionaries\n",
    "actor2movie = defaultdict(list)\n",
    "movie2actor = defaultdict(list)\n",
    "\n",
    "with open(\"./project_2_data/combined_10.txt\", \"r\") as infile:\n",
    "    for line in infile:\n",
    "        arr = line.strip().translate(None, \"&$ \").split(\"\\t\\t\")\n",
    "        for i in range(1, len(arr)):\n",
    "            actor2movie[arr[0]].append(arr[i])\n",
    "            movie2actor[arr[i]].append(arr[0])\n"
   ]
  },
  {
   "cell_type": "code",
   "execution_count": 6,
   "metadata": {
    "collapsed": true
   },
   "outputs": [],
   "source": [
    "import pickle\n",
    "# use pickle to save the actor2movie dict and movie2actor dict\n",
    "pickle.dump(actor2movie, open(\"actor2movie.pkl\", \"wb\" ))\n",
    "pickle.dump(movie2actor, open(\"movie2actor.pkl\", \"wb\" ))\n",
    "\n",
    "# uncomment this to load pickle file\n",
    "# actor2movie = pickle.load(open(\"actor2movie.pkl\", \"rb\" ))\n",
    "# movie2actor = pickle.load(open(\"movie2actor.pkl\", \"rb\" ))\n",
    "\n"
   ]
  },
  {
   "cell_type": "code",
   "execution_count": 5,
   "metadata": {},
   "outputs": [
    {
     "name": "stdout",
     "output_type": "stream",
     "text": [
      "25903265\n"
     ]
    }
   ],
   "source": [
    "# create edge list\n",
    "count = 0\n",
    "\n",
    "outfile = open(\"./edgelist.txt\", \"w\")\n",
    "\n",
    "for i, movies in actor2movie.iteritems():\n",
    "    # for an actor i, get the list of actors that appear in the same movie\n",
    "    i2k = defaultdict(int)\n",
    "    for j in movies:\n",
    "        for k in movie2actor[j]:\n",
    "            i2k[k]=i2k[k]+1\n",
    "    for k, w in i2k.iteritems():\n",
    "        weight = float(w) / len(movies)\n",
    "        # g.add_edge(i, k, weight=weight)\n",
    "        line = i + '\\t' + k + '\\t' + str(weight) + '\\n'\n",
    "        outfile.write(line)\n",
    "        count = count + 1\n",
    "print(count)\n",
    "outfile.close()"
   ]
  },
  {
   "cell_type": "code",
   "execution_count": 6,
   "metadata": {},
   "outputs": [
    {
     "name": "stdout",
     "output_type": "stream",
     "text": [
      "113129\n",
      "25903265\n"
     ]
    }
   ],
   "source": [
    "g = Graph.Read_Ncol('edgelist.txt', directed=True)\n",
    "print(g.vcount())\n",
    "print(g.ecount())"
   ]
  },
  {
   "cell_type": "markdown",
   "metadata": {},
   "source": [
    "### Problem 3\n",
    "Run the Page Rank algorithm on the network. And list the top 10 actors according to page rank.\n",
    "We also listed the top 10 actors ranked by the number of movie he/she has acted in."
   ]
  },
  {
   "cell_type": "code",
   "execution_count": 7,
   "metadata": {
    "collapsed": true
   },
   "outputs": [],
   "source": [
    "page_rank = g.pagerank(vertices=None, directed=True)"
   ]
  },
  {
   "cell_type": "code",
   "execution_count": 8,
   "metadata": {
    "collapsed": true
   },
   "outputs": [],
   "source": [
    "sorted_pr = sorted(range(len(page_rank)), key=lambda k: page_rank[k], reverse=True)"
   ]
  },
  {
   "cell_type": "code",
   "execution_count": 9,
   "metadata": {},
   "outputs": [
    {
     "name": "stdout",
     "output_type": "stream",
     "text": [
      "Roberts,Eric(I) 298 0.000126941657071\n",
      "Jeremy,Ron 637 0.000106443168928\n",
      "Trejo,Danny 241 0.000106343502328\n",
      "Flowers,Bess 828 0.000100092467495\n",
      "Riehle,Richard 197 9.70123730473e-05\n",
      "David,Keith(I) 178 9.01901768746e-05\n",
      "Harris,Sam(II) 600 8.93933290134e-05\n",
      "Kaufman,Lloyd 301 8.7001456383e-05\n",
      "Madsen,Michael(I) 218 8.6824507889e-05\n",
      "Jackson,SamuelL. 159 8.47608644893e-05\n"
     ]
    }
   ],
   "source": [
    "for actor in g.vs[sorted_pr[0:10]][\"name\"]:\n",
    "    print actor, len(actor2movie[actor]), page_rank[g.vs.find(actor).index]"
   ]
  },
  {
   "cell_type": "code",
   "execution_count": 10,
   "metadata": {},
   "outputs": [
    {
     "name": "stdout",
     "output_type": "stream",
     "text": [
      "Blanc,Mel 1065 1.06620164461e-05\n",
      "Brahmanandam 973 3.60927886012e-05\n",
      "Onoe,Matsunosuke 927 8.13233828772e-06\n",
      "Flowers,Bess 828 0.000100092467495\n",
      "Hack,Herman 668 3.77710838846e-05\n",
      "Phelps,Lee(I) 647 7.08439653641e-05\n",
      "Jeremy,Ron 637 0.000106443168928\n",
      "Cobb,Edmund 633 5.63713647626e-05\n",
      "O'Connor,Frank(I) 623 6.78001730158e-05\n",
      "Kapoor,Shakti 618 4.86308269766e-05\n"
     ]
    }
   ],
   "source": [
    "# sort by number of movies appeared in\n",
    "sorted_actor2movie = sorted(actor2movie, key=lambda k: len(actor2movie[k]), reverse=True)\n",
    "for actor in sorted_actor2movie[:10]:\n",
    "    print actor, len(actor2movie[actor]), page_rank[g.vs.find(actor).index]"
   ]
  },
  {
   "cell_type": "markdown",
   "metadata": {
    "collapsed": true
   },
   "source": [
    "### Problem 4\n",
    "Construct a movie network according to the set of actors/actresses, with weight assigned as the jaccard index of the actor sets of 2 movies. Now we have an undirected network instead."
   ]
  },
  {
   "cell_type": "code",
   "execution_count": 19,
   "metadata": {},
   "outputs": [],
   "source": [
    "# helper function that computes jaccard index of two set\n",
    "def jaccard_index(first_set, second_set):\n",
    "    \"\"\" Computes jaccard index of two sets\n",
    "        Arguments:\n",
    "          first_set(set):\n",
    "          second_set(set):\n",
    "        Returns:\n",
    "          index(float): Jaccard index between two sets; it is \n",
    "            between 0.0 and 1.0\n",
    "    \"\"\"\n",
    "    # If both sets are empty, jaccard index is defined to be 1\n",
    "    index = 1.0\n",
    "    if first_set or second_set:\n",
    "        index = (float(len(first_set.intersection(second_set))) / len(first_set.union(second_set)))\n",
    "\n",
    "    return index\n"
   ]
  },
  {
   "cell_type": "code",
   "execution_count": 26,
   "metadata": {
    "collapsed": true
   },
   "outputs": [],
   "source": [
    "combine(\"combined_0.txt\", 5)"
   ]
  },
  {
   "cell_type": "code",
   "execution_count": 27,
   "metadata": {},
   "outputs": [],
   "source": [
    "# create dictionaries\n",
    "actor2movie_m = defaultdict(list)\n",
    "movie2actor_m = defaultdict(list)\n",
    "\n",
    "with open(\"./project_2_data/combined_0.txt\", \"r\") as infile:\n",
    "    for line in infile:\n",
    "        arr = line.strip().translate(None, \"&$ \").split(\"\\t\\t\")\n",
    "        for i in range(1, len(arr)):\n",
    "            actor2movie_m[arr[0]].append(arr[i])\n",
    "            movie2actor_m[arr[i]].append(arr[0])"
   ]
  },
  {
   "cell_type": "code",
   "execution_count": 28,
   "metadata": {},
   "outputs": [],
   "source": [
    "# remove movies that have less than 5 actors\n",
    "threshold = 5\n",
    "movie2actor_m_less = {}\n",
    "for movie, actors in movie2actor_m.iteritems():\n",
    "    if len(actors) >= threshold:\n",
    "        movie2actor_m_less[movie] = actors\n"
   ]
  },
  {
   "cell_type": "code",
   "execution_count": 14,
   "metadata": {},
   "outputs": [],
   "source": [
    "pickle.dump(movie2actor_m_less, open(\"movie2actor_m_less.pkl\", \"wb\" ))\n",
    "pickle.dump(actor2movie_m, open(\"actor2movie_m.pkl\", \"wb\" ))\n"
   ]
  },
  {
   "cell_type": "code",
   "execution_count": 33,
   "metadata": {},
   "outputs": [
    {
     "ename": "KeyboardInterrupt",
     "evalue": "",
     "output_type": "error",
     "traceback": [
      "\u001b[0;31m---------------------------------------------------------------------------\u001b[0m",
      "\u001b[0;31mKeyboardInterrupt\u001b[0m                         Traceback (most recent call last)",
      "\u001b[0;32m<ipython-input-33-ac6a3e5e9920>\u001b[0m in \u001b[0;36m<module>\u001b[0;34m()\u001b[0m\n\u001b[1;32m      7\u001b[0m \u001b[0;32mfor\u001b[0m \u001b[0mi\u001b[0m\u001b[0;34m,\u001b[0m \u001b[0mi_actors\u001b[0m \u001b[0;32min\u001b[0m \u001b[0mmovie2actor_m_less\u001b[0m\u001b[0;34m.\u001b[0m\u001b[0miteritems\u001b[0m\u001b[0;34m(\u001b[0m\u001b[0;34m)\u001b[0m\u001b[0;34m:\u001b[0m\u001b[0;34m\u001b[0m\u001b[0m\n\u001b[1;32m      8\u001b[0m     \u001b[0;32mfor\u001b[0m \u001b[0mj\u001b[0m\u001b[0;34m,\u001b[0m \u001b[0mj_actors\u001b[0m \u001b[0;32min\u001b[0m \u001b[0mmovie2actor_m_less\u001b[0m\u001b[0;34m.\u001b[0m\u001b[0miteritems\u001b[0m\u001b[0;34m(\u001b[0m\u001b[0;34m)\u001b[0m\u001b[0;34m:\u001b[0m\u001b[0;34m\u001b[0m\u001b[0m\n\u001b[0;32m----> 9\u001b[0;31m         \u001b[0;32mif\u001b[0m \u001b[0mj\u001b[0m \u001b[0;32min\u001b[0m \u001b[0mprocessed_movies\u001b[0m \u001b[0;32mor\u001b[0m \u001b[0mi\u001b[0m \u001b[0;34m==\u001b[0m \u001b[0mj\u001b[0m\u001b[0;34m:\u001b[0m\u001b[0;34m\u001b[0m\u001b[0m\n\u001b[0m\u001b[1;32m     10\u001b[0m             \u001b[0;32mcontinue\u001b[0m\u001b[0;34m\u001b[0m\u001b[0m\n\u001b[1;32m     11\u001b[0m         \u001b[0;31m# add edge\u001b[0m\u001b[0;34m\u001b[0m\u001b[0;34m\u001b[0m\u001b[0m\n",
      "\u001b[0;31mKeyboardInterrupt\u001b[0m: "
     ]
    }
   ],
   "source": [
    "# create edge list for movie with at least 5 actors/actresses\n",
    "e_count = 0\n",
    "v_count = 0\n",
    "outfile = open(\"./movie_edgelist.txt\", \"w\")\n",
    "\n",
    "processed_movies = set()\n",
    "for i, i_actors in movie2actor_m_less.iteritems():\n",
    "    for j, j_actors in movie2actor_m_less.iteritems():\n",
    "        # TODO: check whether they have intersections\n",
    "        if j in processed_movies or i == j:\n",
    "            continue\n",
    "        # add edge\n",
    "        e_count = e_count + 1\n",
    "    processed_movies.add(i)\n",
    "        \n",
    "#     # actors: set()\n",
    "#     # i2k: set()   set of movie that share actors with i\n",
    "#     i2k = set()\n",
    "#     for j in actors:\n",
    "#         for k in actor2movie_m[j]:\n",
    "#             if k in movie2actor_m_less:\n",
    "#                 i2k.add(k)\n",
    "#     for k in i2k:\n",
    "#         # weight = jaccard_index(movie2actor_m_less[i], movie2actor_m_less[k])\n",
    "#         # line = i + '\\t' + k + '\\t' + str(weight) + '\\n'\n",
    "#         # outfile.write(line)\n",
    "#         e_count = e_count + 1\n",
    "#     v_count = v_count + 1\n",
    "outfile.close()"
   ]
  },
  {
   "cell_type": "code",
   "execution_count": 30,
   "metadata": {},
   "outputs": [
    {
     "name": "stdout",
     "output_type": "stream",
     "text": [
      "253752\n"
     ]
    }
   ],
   "source": [
    "print v_count"
   ]
  },
  {
   "cell_type": "code",
   "execution_count": null,
   "metadata": {
    "collapsed": true
   },
   "outputs": [],
   "source": [
    "print e_count"
   ]
  }
 ],
 "metadata": {
  "anaconda-cloud": {},
  "kernelspec": {
   "display_name": "Python 2",
   "language": "python",
   "name": "python2"
  },
  "language_info": {
   "codemirror_mode": {
    "name": "ipython",
    "version": 2
   },
   "file_extension": ".py",
   "mimetype": "text/x-python",
   "name": "python",
   "nbconvert_exporter": "python",
   "pygments_lexer": "ipython2",
   "version": "2.7.13"
  }
 },
 "nbformat": 4,
 "nbformat_minor": 1
}
