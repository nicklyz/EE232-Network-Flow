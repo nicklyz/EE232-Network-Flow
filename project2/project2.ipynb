{
 "cells": [
  {
   "cell_type": "markdown",
   "metadata": {},
   "source": [
    "## EE232E Project 2\n",
    "### Problem 1"
   ]
  },
  {
   "cell_type": "code",
   "execution_count": null,
   "metadata": {
    "collapsed": true
   },
   "outputs": [],
   "source": [
    "from igraph import *"
   ]
  },
  {
   "cell_type": "code",
   "execution_count": null,
   "metadata": {
    "collapsed": true
   },
   "outputs": [],
   "source": [
    "outfile = open(\"./project_2_data/combined.txt\", \"w\")\n",
    "\n",
    "with open(\"./project_2_data/actor_movies.txt\", \"rb\") as infile:\n",
    "    for line in infile:\n",
    "        arr = line.split(\"\\t\\t\")\n",
    "        if len(arr) > 10:\n",
    "            outfile.write(line)\n",
    "with open(\"./project_2_data/actress_movies.txt\", \"rb\") as infile:\n",
    "    for line in infile:\n",
    "        arr = line.strip().split(\"\\t\\t\")\n",
    "        if len(arr) > 10:\n",
    "            outfile.write(line)\n",
    "outfile.close()"
   ]
  },
  {
   "cell_type": "markdown",
   "metadata": {},
   "source": [
    "## Problem 2\n",
    "Construct a weighted directed graph $G(V, E)$ from the list, while:\n",
    "\n",
    "$V = \\text{all actors/actresses in the list.} $\n",
    "\n",
    "$S_i = \\{m | i \\in V, m \\text{ is a movie in which } i \\text{ has acted.}$\n",
    "\n",
    "$ E = \\{(i,j)|i,j ∈ V,S_i \\cap S_j \\neq ∅\\} \\text{ and for each directed Edge } i → j, \\text{ a weight is assigned as } \\frac{|S_i \\cap S_j|}{|S_i|}.$"
   ]
  },
  {
   "cell_type": "code",
   "execution_count": null,
   "metadata": {
    "collapsed": true
   },
   "outputs": [],
   "source": [
    "from collections import defaultdict\n",
    "actor2movie = defaultdict(list)\n",
    "movie2actor = defaultdict(list)\n",
    "\n",
    "with open(\"./project_2_data/combined.txt\", \"r\") as infile:\n",
    "    for line in infile:\n",
    "        arr = line.strip().translate(None, \"&$ \").split(\"\\t\\t\")\n",
    "        for i in range(1, len(arr)):\n",
    "            actor2movie[arr[0]].append(arr[i])\n",
    "            movie2actor[arr[i]].append(arr[0])\n"
   ]
  },
  {
   "cell_type": "code",
   "execution_count": null,
   "metadata": {
    "collapsed": true
   },
   "outputs": [],
   "source": [
    "# for i, movies in actor2movie.iteritems():\n",
    "#     for j in movies:\n",
    "#         for k in movie2actor[j]:\n",
    "            "
   ]
  },
  {
   "cell_type": "code",
   "execution_count": null,
   "metadata": {},
   "outputs": [],
   "source": [
    "g = Graph(directed=True)\n",
    "g.add_vertex(\"hello\")\n",
    "layout = g.layout(\"kk\")\n",
    "plot(g, layout=layout)"
   ]
  },
  {
   "cell_type": "code",
   "execution_count": null,
   "metadata": {
    "collapsed": true
   },
   "outputs": [],
   "source": []
  }
 ],
 "metadata": {
  "anaconda-cloud": {},
  "kernelspec": {
   "display_name": "Python 2",
   "language": "python",
   "name": "python2"
  },
  "language_info": {
   "codemirror_mode": {
    "name": "ipython",
    "version": 2
   },
   "file_extension": ".py",
   "mimetype": "text/x-python",
   "name": "python",
   "nbconvert_exporter": "python",
   "pygments_lexer": "ipython2",
   "version": "2.7.13"
  }
 },
 "nbformat": 4,
 "nbformat_minor": 1
}
