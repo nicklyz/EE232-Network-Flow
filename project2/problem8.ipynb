{
 "cells": [
  {
   "cell_type": "markdown",
   "metadata": {},
   "source": [
    "## Problem 8\n",
    "####  Train a regression model and predict the rating of the 3 movies mentioned."
   ]
  },
  {
   "cell_type": "code",
   "execution_count": 81,
   "metadata": {},
   "outputs": [],
   "source": [
    "import matplotlib.pyplot as plt\n",
    "import pickle\n",
    "import string\n",
    "import re\n",
    "import numpy as np\n",
    "from tqdm import tqdm as timer\n",
    "from sklearn import linear_model\n",
    "import sklearn.metrics as mcs"
   ]
  },
  {
   "cell_type": "markdown",
   "metadata": {},
   "source": [
    "#### Movie to rating dictionary"
   ]
  },
  {
   "cell_type": "code",
   "execution_count": 26,
   "metadata": {},
   "outputs": [],
   "source": [
    "def clean_string(s):\n",
    "    return(re.sub(r'\\(.*\\)|\\{.*\\}|\\'|\\\"', \"\", s).lstrip().rstrip())"
   ]
  },
  {
   "cell_type": "code",
   "execution_count": 27,
   "metadata": {},
   "outputs": [
    {
     "name": "stderr",
     "output_type": "stream",
     "text": [
      "movie_rating.txt: 100%|██████████| 348547/348547 [00:03<00:00, 97923.85it/s] \n"
     ]
    }
   ],
   "source": [
    "M2R = {}\n",
    "printable = set(string.printable)\n",
    "\n",
    "with open ('./project_2_data/movie_rating.txt') as infile:\n",
    "    for line in timer(infile, total=348547, desc='movie_rating.txt'):\n",
    "        line = filter(lambda x : x in printable, line.strip().translate(None, \"&$ \"))\n",
    "        arr = line.split('\\t\\t')\n",
    "        M2R[clean_string(arr[0])] = arr[1]"
   ]
  },
  {
   "cell_type": "code",
   "execution_count": 85,
   "metadata": {},
   "outputs": [
    {
     "data": {
      "text/plain": [
       "310876"
      ]
     },
     "execution_count": 85,
     "metadata": {},
     "output_type": "execute_result"
    }
   ],
   "source": [
    "len(M2R)"
   ]
  },
  {
   "cell_type": "markdown",
   "metadata": {},
   "source": [
    "#### Movie to director dictionary"
   ]
  },
  {
   "cell_type": "code",
   "execution_count": 52,
   "metadata": {},
   "outputs": [
    {
     "name": "stderr",
     "output_type": "stream",
     "text": [
      "director_movies.txt: 389663it [00:07, 50002.31it/s]                            \n"
     ]
    }
   ],
   "source": [
    "M2D = {}\n",
    "printable = set(string.printable)\n",
    "\n",
    "with open ('./project_2_data/director_movies.txt') as infile:\n",
    "    for line in timer(infile, total=348547, desc='director_movies.txt'):\n",
    "        line = filter(lambda x : x in printable, line.strip().translate(None, \"&$ \"))\n",
    "        arr = line.split('\\t\\t')\n",
    "        for movie in arr[1:]:\n",
    "            M2D[clean_string(movie)] = arr[0]"
   ]
  },
  {
   "cell_type": "code",
   "execution_count": 53,
   "metadata": {},
   "outputs": [
    {
     "data": {
      "text/plain": [
       "621002"
      ]
     },
     "execution_count": 53,
     "metadata": {},
     "output_type": "execute_result"
    }
   ],
   "source": [
    "len(M2D)"
   ]
  },
  {
   "cell_type": "markdown",
   "metadata": {},
   "source": [
    "#### Load data from previous questions"
   ]
  },
  {
   "cell_type": "code",
   "execution_count": 18,
   "metadata": {},
   "outputs": [],
   "source": [
    "A2PR = pickle.load(open('A2PR.pkl', 'rb'))\n",
    "A2M = pickle.load(open('A2M.pkl', 'rb'))\n",
    "M2A = pickle.load(open('M2A.pkl', 'rb'))"
   ]
  },
  {
   "cell_type": "code",
   "execution_count": 29,
   "metadata": {
    "collapsed": true
   },
   "outputs": [],
   "source": [
    "# some movies do not have ratings, we don't use them for training\n",
    "available_movies = set(M2A.keys()).intersection(M2R.keys())"
   ]
  },
  {
   "cell_type": "code",
   "execution_count": 31,
   "metadata": {},
   "outputs": [
    {
     "data": {
      "text/plain": [
       "75234"
      ]
     },
     "execution_count": 31,
     "metadata": {},
     "output_type": "execute_result"
    }
   ],
   "source": [
    "len(available_movies)"
   ]
  },
  {
   "cell_type": "markdown",
   "metadata": {},
   "source": [
    "#### Sort movies by rating to get top 250 movies"
   ]
  },
  {
   "cell_type": "code",
   "execution_count": 50,
   "metadata": {},
   "outputs": [],
   "source": [
    "# top 250 movies (games)\n",
    "sorted_movies = sorted(available_movies, key=lambda k : float(M2R[k]), reverse=True)[:250]"
   ]
  },
  {
   "cell_type": "code",
   "execution_count": 55,
   "metadata": {},
   "outputs": [],
   "source": [
    "top_directors = set()\n",
    "for movie in sorted_movies:\n",
    "    if len(top_directors) >= 100:\n",
    "        break;\n",
    "    if movie in M2D.keys():\n",
    "        top_directors.add(M2D[movie])\n"
   ]
  },
  {
   "cell_type": "code",
   "execution_count": 56,
   "metadata": {},
   "outputs": [
    {
     "data": {
      "text/plain": [
       "100"
      ]
     },
     "execution_count": 56,
     "metadata": {},
     "output_type": "execute_result"
    }
   ],
   "source": [
    "len(top_directors)"
   ]
  },
  {
   "cell_type": "markdown",
   "metadata": {},
   "source": [
    "#### Build the feature vector for training linear regression model"
   ]
  },
  {
   "cell_type": "code",
   "execution_count": 59,
   "metadata": {},
   "outputs": [
    {
     "name": "stderr",
     "output_type": "stream",
     "text": [
      "100%|██████████| 75234/75234 [1:16:07<00:00, 16.01it/s]\n"
     ]
    }
   ],
   "source": [
    "def build_feature(movie):\n",
    "    features = [0] * 6\n",
    "    actors = M2A[movie]\n",
    "    page_ranks = []\n",
    "    for actor in actors:\n",
    "        page_ranks.append(A2PR[actor])\n",
    "    sorted_page_ranks = sorted(page_ranks, reverse=True)\n",
    "    features[:5] = sorted_page_ranks[:5]\n",
    "\n",
    "    if movie in M2D.keys() and M2D[movie] in top_directors:\n",
    "        features[5] = 1\n",
    "    return np.array(features)\n",
    "\n",
    "feature_vector = np.vstack(map(build_feature, timer(available_movies)))"
   ]
  },
  {
   "cell_type": "code",
   "execution_count": 87,
   "metadata": {},
   "outputs": [
    {
     "name": "stderr",
     "output_type": "stream",
     "text": [
      "100%|██████████| 75234/75234 [00:00<00:00, 206850.98it/s]\n"
     ]
    }
   ],
   "source": [
    "target = []\n",
    "for movie in timer(available_movies):\n",
    "    target.append(float(M2R[movie]))\n",
    "target_vector = np.array(target)"
   ]
  },
  {
   "cell_type": "markdown",
   "metadata": {},
   "source": [
    "#### Training model"
   ]
  },
  {
   "cell_type": "code",
   "execution_count": 66,
   "metadata": {},
   "outputs": [
    {
     "data": {
      "text/plain": [
       "LinearRegression(copy_X=True, fit_intercept=True, n_jobs=1, normalize=False)"
      ]
     },
     "execution_count": 66,
     "metadata": {},
     "output_type": "execute_result"
    }
   ],
   "source": [
    "# Linear Regression model from sklearn\n",
    "model = linear_model.LinearRegression()\n",
    "model.fit(feature_vector, target_vector)"
   ]
  },
  {
   "cell_type": "code",
   "execution_count": 77,
   "metadata": {
    "collapsed": true
   },
   "outputs": [],
   "source": [
    "test_movies = [\n",
    "    \"Batman v Superman: Dawn of Justice (2016)\",\n",
    "    \"Mission: Impossible - Rogue Nation (2015)\",\n",
    "    \"Minions (2015)\"\n",
    "]\n",
    "clean_test_movies = []\n",
    "for movie in test_movies:\n",
    "    clean_test_movies.append(clean_string(movie.translate(None, \"&$ \")))"
   ]
  },
  {
   "cell_type": "code",
   "execution_count": 78,
   "metadata": {},
   "outputs": [],
   "source": [
    "test_feature_vector = map(build_feature, clean_test_movies)"
   ]
  },
  {
   "cell_type": "code",
   "execution_count": 79,
   "metadata": {},
   "outputs": [
    {
     "data": {
      "text/plain": [
       "array([ 6.11802137,  6.04641428,  6.13936857])"
      ]
     },
     "execution_count": 79,
     "metadata": {},
     "output_type": "execute_result"
    }
   ],
   "source": [
    "model.predict(test_feature_vector)"
   ]
  },
  {
   "cell_type": "markdown",
   "metadata": {},
   "source": [
    "#### Goodness of fit of Regression Model"
   ]
  },
  {
   "cell_type": "code",
   "execution_count": 80,
   "metadata": {
    "collapsed": true
   },
   "outputs": [],
   "source": [
    "prediction = model.predict(feature_vector)"
   ]
  },
  {
   "cell_type": "code",
   "execution_count": 84,
   "metadata": {},
   "outputs": [
    {
     "data": {
      "text/plain": [
       "1.4411438060362047"
      ]
     },
     "execution_count": 84,
     "metadata": {},
     "output_type": "execute_result"
    }
   ],
   "source": [
    "mcs.mean_squared_error(target_vector, prediction)"
   ]
  },
  {
   "cell_type": "code",
   "execution_count": 83,
   "metadata": {},
   "outputs": [
    {
     "data": {
      "text/plain": [
       "0.94690717321048978"
      ]
     },
     "execution_count": 83,
     "metadata": {},
     "output_type": "execute_result"
    }
   ],
   "source": [
    "mcs.mean_absolute_error(target_vector, prediction)"
   ]
  },
  {
   "cell_type": "code",
   "execution_count": null,
   "metadata": {
    "collapsed": true
   },
   "outputs": [],
   "source": []
  }
 ],
 "metadata": {
  "kernelspec": {
   "display_name": "Python 2",
   "language": "python",
   "name": "python2"
  },
  "language_info": {
   "codemirror_mode": {
    "name": "ipython",
    "version": 2
   },
   "file_extension": ".py",
   "mimetype": "text/x-python",
   "name": "python",
   "nbconvert_exporter": "python",
   "pygments_lexer": "ipython2",
   "version": "2.7.13"
  }
 },
 "nbformat": 4,
 "nbformat_minor": 2
}
