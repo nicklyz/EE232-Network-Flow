{
 "cells": [
  {
   "cell_type": "markdown",
   "metadata": {},
   "source": [
    "## Problem 5\n",
    "Community Finding and Genre Tagging"
   ]
  },
  {
   "cell_type": "code",
   "execution_count": 2,
   "metadata": {},
   "outputs": [
    {
     "name": "stderr",
     "output_type": "stream",
     "text": [
      "\n",
      "Attaching package: ‘igraph’\n",
      "\n",
      "The following objects are masked from ‘package:stats’:\n",
      "\n",
      "    decompose, spectrum\n",
      "\n",
      "The following object is masked from ‘package:base’:\n",
      "\n",
      "    union\n",
      "\n"
     ]
    }
   ],
   "source": [
    "library(igraph)\n",
    "library(data.table)"
   ]
  },
  {
   "cell_type": "code",
   "execution_count": 2,
   "metadata": {},
   "outputs": [
    {
     "name": "stdout",
     "output_type": "stream",
     "text": [
      "\r",
      "Read 0.0% of 41030666 rows\r",
      "Read 8.3% of 41030666 rows\r",
      "Read 16.4% of 41030666 rows\r",
      "Read 24.7% of 41030666 rows\r",
      "Read 33.0% of 41030666 rows\r",
      "Read 41.3% of 41030666 rows\r",
      "Read 49.6% of 41030666 rows\r",
      "Read 57.9% of 41030666 rows\r",
      "Read 66.0% of 41030666 rows\r",
      "Read 74.3% of 41030666 rows\r",
      "Read 82.6% of 41030666 rows\r",
      "Read 91.0% of 41030666 rows\r",
      "Read 99.3% of 41030666 rows\r",
      "Read 41030666 rows and 3 (of 3) columns from 1.769 GB file in 00:00:16\n"
     ]
    }
   ],
   "source": [
    "df = fread(file=\"movie_edgelist.txt\")"
   ]
  },
  {
   "cell_type": "code",
   "execution_count": 3,
   "metadata": {
    "collapsed": true
   },
   "outputs": [],
   "source": [
    "colnames(df) = c(\"n1\", \"n2\", \"weight\")"
   ]
  },
  {
   "cell_type": "code",
   "execution_count": 3,
   "metadata": {
    "collapsed": true
   },
   "outputs": [],
   "source": [
    "g= readRDS(\"graph.rds\")\n",
    "# g = simplify( graph.data.frame(df, directed=FALSE))"
   ]
  },
  {
   "cell_type": "code",
   "execution_count": 24,
   "metadata": {
    "collapsed": true
   },
   "outputs": [],
   "source": [
    "names = V(g)$name"
   ]
  },
  {
   "cell_type": "code",
   "execution_count": 12,
   "metadata": {},
   "outputs": [
    {
     "data": {
      "text/plain": [
       "+ 6/90829 vertices, named:\n",
       "[1] TheLuckofaSailor            TheGreatBarrier            \n",
       "[3] Labellasociet               Clubdeseoritas             \n",
       "[5] RomeExpress                 ZombieApocalypse:Redemption"
      ]
     },
     "metadata": {},
     "output_type": "display_data"
    }
   ],
   "source": [
    "head(V(g))"
   ]
  },
  {
   "cell_type": "code",
   "execution_count": 13,
   "metadata": {},
   "outputs": [
    {
     "data": {
      "text/html": [
       "90829"
      ],
      "text/latex": [
       "90829"
      ],
      "text/markdown": [
       "90829"
      ],
      "text/plain": [
       "[1] 90829"
      ]
     },
     "metadata": {},
     "output_type": "display_data"
    }
   ],
   "source": [
    "vcount(g)"
   ]
  },
  {
   "cell_type": "code",
   "execution_count": 14,
   "metadata": {},
   "outputs": [
    {
     "data": {
      "text/html": [
       "40939838"
      ],
      "text/latex": [
       "40939838"
      ],
      "text/markdown": [
       "40939838"
      ],
      "text/plain": [
       "[1] 40939838"
      ]
     },
     "metadata": {},
     "output_type": "display_data"
    }
   ],
   "source": [
    "ecount(g)"
   ]
  },
  {
   "cell_type": "code",
   "execution_count": 4,
   "metadata": {
    "collapsed": true
   },
   "outputs": [],
   "source": [
    "community = readRDS(\"community.rds\")\n",
    "# this took 10 hrs\n",
    "# community = fastgreedy.community(g)"
   ]
  },
  {
   "cell_type": "code",
   "execution_count": 16,
   "metadata": {},
   "outputs": [
    {
     "data": {
      "text/html": [
       "0.750072583392866"
      ],
      "text/latex": [
       "0.750072583392866"
      ],
      "text/markdown": [
       "0.750072583392866"
      ],
      "text/plain": [
       "[1] 0.7500726"
      ]
     },
     "metadata": {},
     "output_type": "display_data"
    }
   ],
   "source": [
    "modularity(community)"
   ]
  },
  {
   "cell_type": "code",
   "execution_count": 17,
   "metadata": {},
   "outputs": [
    {
     "data": {
      "text/plain": [
       "Community sizes\n",
       "    1     2     3     4     5     6     7     8     9    10    11    12    13 \n",
       " 5725  1076 25963  4203  2856  3710  5083    33  3529  6607  8154   705 16185 \n",
       "   14    15    16    17    18    19 \n",
       " 1188  2356  1438   862   722   434 "
      ]
     },
     "metadata": {},
     "output_type": "display_data"
    }
   ],
   "source": [
    "sizes(community)"
   ]
  },
  {
   "cell_type": "code",
   "execution_count": 18,
   "metadata": {},
   "outputs": [
    {
     "data": {
      "image/png": "[encoded data removed]",
      "text/plain": [
       "Plot with title “Histogram of sizes(community)”"
      ]
     },
     "metadata": {},
     "output_type": "display_data"
    }
   ],
   "source": [
    "hist(sizes(community))"
   ]
  },
  {
   "cell_type": "code",
   "execution_count": 20,
   "metadata": {
    "collapsed": true
   },
   "outputs": [],
   "source": [
    "# saveRDS(g, \"graph.rds\")\n",
    "# saveRDS(community, \"community.rds\")"
   ]
  },
  {
   "cell_type": "markdown",
   "metadata": {
    "collapsed": true
   },
   "source": [
    "### Load movie genres\n",
    "Load genres for each movies"
   ]
  },
  {
   "cell_type": "code",
   "execution_count": 20,
   "metadata": {
    "collapsed": true
   },
   "outputs": [],
   "source": [
    "movie_genres = fread(file=\"clean_movie_genre.txt\", header=FALSE, sep='\\t')"
   ]
  },
  {
   "cell_type": "code",
   "execution_count": 21,
   "metadata": {},
   "outputs": [
    {
     "data": {
      "text/html": [
       "<table>\n",
       "<thead><tr><th scope=col>V1</th><th scope=col>V2</th></tr></thead>\n",
       "<tbody>\n",
       "\t<tr><td>TheLuckofaSailor</td><td>Romance         </td></tr>\n",
       "\t<tr><td>LendMeYourWife  </td><td>Short           </td></tr>\n",
       "\t<tr><td>FahrendesVolk   </td><td>Short           </td></tr>\n",
       "\t<tr><td>BigBusiness     </td><td>Comedy          </td></tr>\n",
       "\t<tr><td>MatineeIdol     </td><td>Mystery         </td></tr>\n",
       "\t<tr><td>AlmostaHoneymoon</td><td>Comedy          </td></tr>\n",
       "</tbody>\n",
       "</table>\n"
      ],
      "text/latex": [
       "\\begin{tabular}{r|ll}\n",
       " V1 & V2\\\\\n",
       "\\hline\n",
       "\t TheLuckofaSailor & Romance         \\\\\n",
       "\t LendMeYourWife   & Short           \\\\\n",
       "\t FahrendesVolk    & Short           \\\\\n",
       "\t BigBusiness      & Comedy          \\\\\n",
       "\t MatineeIdol      & Mystery         \\\\\n",
       "\t AlmostaHoneymoon & Comedy          \\\\\n",
       "\\end{tabular}\n"
      ],
      "text/markdown": [
       "\n",
       "V1 | V2 | \n",
       "|---|---|---|---|---|---|\n",
       "| TheLuckofaSailor | Romance          | \n",
       "| LendMeYourWife   | Short            | \n",
       "| FahrendesVolk    | Short            | \n",
       "| BigBusiness      | Comedy           | \n",
       "| MatineeIdol      | Mystery          | \n",
       "| AlmostaHoneymoon | Comedy           | \n",
       "\n",
       "\n"
      ],
      "text/plain": [
       "  V1               V2     \n",
       "1 TheLuckofaSailor Romance\n",
       "2 LendMeYourWife   Short  \n",
       "3 FahrendesVolk    Short  \n",
       "4 BigBusiness      Comedy \n",
       "5 MatineeIdol      Mystery\n",
       "6 AlmostaHoneymoon Comedy "
      ]
     },
     "metadata": {},
     "output_type": "display_data"
    }
   ],
   "source": [
    "head(movie_genres)"
   ]
  },
  {
   "cell_type": "code",
   "execution_count": 22,
   "metadata": {
    "collapsed": true
   },
   "outputs": [],
   "source": [
    "setkey(movie_genres, V1)"
   ]
  },
  {
   "cell_type": "code",
   "execution_count": 25,
   "metadata": {
    "collapsed": true
   },
   "outputs": [],
   "source": [
    "V(g)$genre = movie_genres[names, ]$V2"
   ]
  },
  {
   "cell_type": "code",
   "execution_count": 27,
   "metadata": {},
   "outputs": [
    {
     "data": {
      "text/html": [
       "<ol class=list-inline>\n",
       "\t<li>'Romance'</li>\n",
       "\t<li>'Short'</li>\n",
       "\t<li>'Drama'</li>\n",
       "\t<li>'Music'</li>\n",
       "\t<li>'Crime'</li>\n",
       "\t<li>'Horror'</li>\n",
       "</ol>\n"
      ],
      "text/latex": [
       "\\begin{enumerate*}\n",
       "\\item 'Romance'\n",
       "\\item 'Short'\n",
       "\\item 'Drama'\n",
       "\\item 'Music'\n",
       "\\item 'Crime'\n",
       "\\item 'Horror'\n",
       "\\end{enumerate*}\n"
      ],
      "text/markdown": [
       "1. 'Romance'\n",
       "2. 'Short'\n",
       "3. 'Drama'\n",
       "4. 'Music'\n",
       "5. 'Crime'\n",
       "6. 'Horror'\n",
       "\n",
       "\n"
      ],
      "text/plain": [
       "[1] \"Romance\" \"Short\"   \"Drama\"   \"Music\"   \"Crime\"   \"Horror\" "
      ]
     },
     "metadata": {},
     "output_type": "display_data"
    }
   ],
   "source": [
    "head(V(g)$genre)"
   ]
  },
  {
   "cell_type": "markdown",
   "metadata": {},
   "source": [
    "### Tag community id and compute the "
   ]
  },
  {
   "cell_type": "code",
   "execution_count": 28,
   "metadata": {
    "collapsed": true
   },
   "outputs": [],
   "source": [
    "V(g)$community.id = community$membership"
   ]
  },
  {
   "cell_type": "code",
   "execution_count": 34,
   "metadata": {
    "collapsed": true
   },
   "outputs": [],
   "source": [
    "V(g)$community.desc = rep(NA, vcount(g))"
   ]
  },
  {
   "cell_type": "code",
   "execution_count": 46,
   "metadata": {},
   "outputs": [
    {
     "name": "stdout",
     "output_type": "stream",
     "text": [
      "[1] \"Drama,undefined\"\n",
      "[1] \"Short\"\n",
      "[1] \"Drama,Comedy\"\n",
      "[1] \"Drama\"\n",
      "[1] \"Comedy,Drama\"\n",
      "[1] \"NA\"\n",
      "[1] \"Drama\"\n",
      "[1] \"Comedy,Drama\"\n",
      "[1] \"Drama\"\n",
      "[1] \"Drama\"\n",
      "[1] \"Comedy,Drama\"\n",
      "[1] \"Drama\"\n",
      "[1] \"Comedy,Drama\"\n",
      "[1] \"Comedy,Drama\"\n",
      "[1] \"Drama\"\n",
      "[1] \"Comedy,Drama\"\n",
      "[1] \"Drama,Romance\"\n",
      "[1] \"Short\"\n",
      "[1] \"Drama,Romance,Comedy\"\n"
     ]
    }
   ],
   "source": [
    "for (comm in unique(V(g)$community.id)) {\n",
    "    vs = which(V(g)$community.id == comm)\n",
    "    genres = V(g)$genre[vs]\n",
    "    ugenres = unique(genres)\n",
    "    frequency = table(genres)\n",
    "    gthan = ugenres[ sapply(ugenres, function(x){ frequency[x] / sum(frequency) > 0.2}) ]\n",
    "    desc = do.call(paste, c(as.list(gthan), sep=\",\", collapse=\"\"))\n",
    "    V(g)$community.desc[vs] = rep(desc, length( vs ))\n",
    "    print(desc)\n",
    "}"
   ]
  },
  {
   "cell_type": "code",
   "execution_count": 41,
   "metadata": {
    "collapsed": true
   },
   "outputs": [],
   "source": [
    "saveRDS(g, \"graph.rds\")"
   ]
  },
  {
   "cell_type": "markdown",
   "metadata": {},
   "source": [
    "## Problem 6\n",
    "\n",
    "Experiment on test dataset"
   ]
  },
  {
   "cell_type": "code",
   "execution_count": 5,
   "metadata": {
    "collapsed": true
   },
   "outputs": [],
   "source": [
    "# ge nearest neighbor, sorted by weight\n",
    "get_nearest_neighbor = function(v) {\n",
    "    ns = neighbors(g, v)\n",
    "    ws = sapply(ns, function(x){ edge_attr(g, \"weight\", get.edge.ids(g, c(v, x))) })\n",
    "    return( ns[ order(ws, decreasing = TRUE) ] )\n",
    "}"
   ]
  },
  {
   "cell_type": "code",
   "execution_count": 6,
   "metadata": {},
   "outputs": [
    {
     "name": "stderr",
     "output_type": "stream",
     "text": [
      "Warning message in data.table(name = V(g)$name[ns], genre = V(g)$genre, community = V(g)$community.id[ns]):\n",
      "“Item 1 is of size 829 but maximum size is 90829 (recycled leaving remainder of 468 items)”Warning message in data.table(name = V(g)$name[ns], genre = V(g)$genre, community = V(g)$community.id[ns]):\n",
      "“Item 3 is of size 829 but maximum size is 90829 (recycled leaving remainder of 468 items)”"
     ]
    },
    {
     "data": {
      "text/html": [
       "<table>\n",
       "<thead><tr><th scope=col>name</th><th scope=col>genre</th><th scope=col>community</th></tr></thead>\n",
       "<tbody>\n",
       "\t<tr><td>Eloise            </td><td>Romance           </td><td>3                 </td></tr>\n",
       "\t<tr><td>IntotheStorm      </td><td>Short             </td><td>3                 </td></tr>\n",
       "\t<tr><td>ManofSteel        </td><td>Drama             </td><td>3                 </td></tr>\n",
       "\t<tr><td>LoveandHonor      </td><td>Music             </td><td>3                 </td></tr>\n",
       "\t<tr><td>RealSteel         </td><td>Crime             </td><td>3                 </td></tr>\n",
       "\t<tr><td>RathertobeChosen  </td><td>Horror            </td><td>3                 </td></tr>\n",
       "\t<tr><td>SalvationBoulevard</td><td>History           </td><td>3                 </td></tr>\n",
       "\t<tr><td>Demoted           </td><td>Drama             </td><td>3                 </td></tr>\n",
       "\t<tr><td>JimmyP.           </td><td>Family            </td><td>3                 </td></tr>\n",
       "\t<tr><td>Scream4           </td><td>Adventure         </td><td>3                 </td></tr>\n",
       "</tbody>\n",
       "</table>\n"
      ],
      "text/latex": [
       "\\begin{tabular}{r|lll}\n",
       " name & genre & community\\\\\n",
       "\\hline\n",
       "\t Eloise             & Romance            & 3                 \\\\\n",
       "\t IntotheStorm       & Short              & 3                 \\\\\n",
       "\t ManofSteel         & Drama              & 3                 \\\\\n",
       "\t LoveandHonor       & Music              & 3                 \\\\\n",
       "\t RealSteel          & Crime              & 3                 \\\\\n",
       "\t RathertobeChosen   & Horror             & 3                 \\\\\n",
       "\t SalvationBoulevard & History            & 3                 \\\\\n",
       "\t Demoted            & Drama              & 3                 \\\\\n",
       "\t JimmyP.            & Family             & 3                 \\\\\n",
       "\t Scream4            & Adventure          & 3                 \\\\\n",
       "\\end{tabular}\n"
      ],
      "text/markdown": [
       "\n",
       "name | genre | community | \n",
       "|---|---|---|---|---|---|---|---|---|---|\n",
       "| Eloise             | Romance            | 3                  | \n",
       "| IntotheStorm       | Short              | 3                  | \n",
       "| ManofSteel         | Drama              | 3                  | \n",
       "| LoveandHonor       | Music              | 3                  | \n",
       "| RealSteel          | Crime              | 3                  | \n",
       "| RathertobeChosen   | Horror             | 3                  | \n",
       "| SalvationBoulevard | History            | 3                  | \n",
       "| Demoted            | Drama              | 3                  | \n",
       "| JimmyP.            | Family             | 3                  | \n",
       "| Scream4            | Adventure          | 3                  | \n",
       "\n",
       "\n"
      ],
      "text/plain": [
       "   name               genre     community\n",
       "1  Eloise             Romance   3        \n",
       "2  IntotheStorm       Short     3        \n",
       "3  ManofSteel         Drama     3        \n",
       "4  LoveandHonor       Music     3        \n",
       "5  RealSteel          Crime     3        \n",
       "6  RathertobeChosen   Horror    3        \n",
       "7  SalvationBoulevard History   3        \n",
       "8  Demoted            Drama     3        \n",
       "9  JimmyP.            Family    3        \n",
       "10 Scream4            Adventure 3        "
      ]
     },
     "metadata": {},
     "output_type": "display_data"
    }
   ],
   "source": [
    "ns = get_nearest_neighbor(which(V(g)$name == \"BatmanvSuperman:DawnofJustice\"))\n",
    "data.table(name = V(g)$name[ns], genre = V(g)$genre, community = V(g)$community.id[ns])[1 : 10, ]"
   ]
  },
  {
   "cell_type": "code",
   "execution_count": 7,
   "metadata": {},
   "outputs": [
    {
     "name": "stderr",
     "output_type": "stream",
     "text": [
      "Warning message in data.table(name = V(g)$name[ns], genre = V(g)$genre, community = V(g)$community.id[ns]):\n",
      "“Item 1 is of size 697 but maximum size is 90829 (recycled leaving remainder of 219 items)”Warning message in data.table(name = V(g)$name[ns], genre = V(g)$genre, community = V(g)$community.id[ns]):\n",
      "“Item 3 is of size 697 but maximum size is 90829 (recycled leaving remainder of 219 items)”"
     ]
    },
    {
     "data": {
      "text/html": [
       "<table>\n",
       "<thead><tr><th scope=col>name</th><th scope=col>genre</th><th scope=col>community</th></tr></thead>\n",
       "<tbody>\n",
       "\t<tr><td>Fan                     </td><td>Romance                 </td><td>1                       </td></tr>\n",
       "\t<tr><td>Suffragette             </td><td>Short                   </td><td>3                       </td></tr>\n",
       "\t<tr><td>BreakingtheBank         </td><td>Drama                   </td><td>3                       </td></tr>\n",
       "\t<tr><td>NowYouSeeMe:TheSecondAct</td><td>Music                   </td><td>3                       </td></tr>\n",
       "\t<tr><td>Phantom                 </td><td>Crime                   </td><td>7                       </td></tr>\n",
       "\t<tr><td>TheRiseoftheKrays       </td><td>Horror                  </td><td>3                       </td></tr>\n",
       "\t<tr><td>TheTheoryofEverything   </td><td>History                 </td><td>3                       </td></tr>\n",
       "\t<tr><td>Avengers:AgeofUltron    </td><td>Drama                   </td><td>3                       </td></tr>\n",
       "\t<tr><td>TheManfromU.N.C.L.E.    </td><td>Family                  </td><td>3                       </td></tr>\n",
       "\t<tr><td>PatientZero             </td><td>Adventure               </td><td>3                       </td></tr>\n",
       "</tbody>\n",
       "</table>\n"
      ],
      "text/latex": [
       "\\begin{tabular}{r|lll}\n",
       " name & genre & community\\\\\n",
       "\\hline\n",
       "\t Fan                      & Romance                  & 1                       \\\\\n",
       "\t Suffragette              & Short                    & 3                       \\\\\n",
       "\t BreakingtheBank          & Drama                    & 3                       \\\\\n",
       "\t NowYouSeeMe:TheSecondAct & Music                    & 3                       \\\\\n",
       "\t Phantom                  & Crime                    & 7                       \\\\\n",
       "\t TheRiseoftheKrays        & Horror                   & 3                       \\\\\n",
       "\t TheTheoryofEverything    & History                  & 3                       \\\\\n",
       "\t Avengers:AgeofUltron     & Drama                    & 3                       \\\\\n",
       "\t TheManfromU.N.C.L.E.     & Family                   & 3                       \\\\\n",
       "\t PatientZero              & Adventure                & 3                       \\\\\n",
       "\\end{tabular}\n"
      ],
      "text/markdown": [
       "\n",
       "name | genre | community | \n",
       "|---|---|---|---|---|---|---|---|---|---|\n",
       "| Fan                      | Romance                  | 1                        | \n",
       "| Suffragette              | Short                    | 3                        | \n",
       "| BreakingtheBank          | Drama                    | 3                        | \n",
       "| NowYouSeeMe:TheSecondAct | Music                    | 3                        | \n",
       "| Phantom                  | Crime                    | 7                        | \n",
       "| TheRiseoftheKrays        | Horror                   | 3                        | \n",
       "| TheTheoryofEverything    | History                  | 3                        | \n",
       "| Avengers:AgeofUltron     | Drama                    | 3                        | \n",
       "| TheManfromU.N.C.L.E.     | Family                   | 3                        | \n",
       "| PatientZero              | Adventure                | 3                        | \n",
       "\n",
       "\n"
      ],
      "text/plain": [
       "   name                     genre     community\n",
       "1  Fan                      Romance   1        \n",
       "2  Suffragette              Short     3        \n",
       "3  BreakingtheBank          Drama     3        \n",
       "4  NowYouSeeMe:TheSecondAct Music     3        \n",
       "5  Phantom                  Crime     7        \n",
       "6  TheRiseoftheKrays        Horror    3        \n",
       "7  TheTheoryofEverything    History   3        \n",
       "8  Avengers:AgeofUltron     Drama     3        \n",
       "9  TheManfromU.N.C.L.E.     Family    3        \n",
       "10 PatientZero              Adventure 3        "
      ]
     },
     "metadata": {},
     "output_type": "display_data"
    }
   ],
   "source": [
    "ns = get_nearest_neighbor(which(V(g)$name == \"Mission:Impossible-RogueNation\"))\n",
    "data.table(name = V(g)$name[ns], genre = V(g)$genre, community = V(g)$community.id[ns])[1 : 10, ]"
   ]
  },
  {
   "cell_type": "code",
   "execution_count": 8,
   "metadata": {},
   "outputs": [
    {
     "name": "stderr",
     "output_type": "stream",
     "text": [
      "Warning message in data.table(name = V(g)$name[ns], genre = V(g)$genre, community = V(g)$community.id[ns]):\n",
      "“Item 1 is of size 647 but maximum size is 90829 (recycled leaving remainder of 249 items)”Warning message in data.table(name = V(g)$name[ns], genre = V(g)$genre, community = V(g)$community.id[ns]):\n",
      "“Item 3 is of size 647 but maximum size is 90829 (recycled leaving remainder of 249 items)”"
     ]
    },
    {
     "data": {
      "text/html": [
       "<table>\n",
       "<thead><tr><th scope=col>name</th><th scope=col>genre</th><th scope=col>community</th></tr></thead>\n",
       "<tbody>\n",
       "\t<tr><td>TheLorax          </td><td>Romance           </td><td>3                 </td></tr>\n",
       "\t<tr><td>SurfsUp           </td><td>Short             </td><td>3                 </td></tr>\n",
       "\t<tr><td>DespicableMe2     </td><td>Drama             </td><td>3                 </td></tr>\n",
       "\t<tr><td>Up                </td><td>Music             </td><td>3                 </td></tr>\n",
       "\t<tr><td>HortonHearsaWho!  </td><td>Crime             </td><td>3                 </td></tr>\n",
       "\t<tr><td>GakenouenoPonyo   </td><td>Horror            </td><td>3                 </td></tr>\n",
       "\t<tr><td>WALLE             </td><td>History           </td><td>3                 </td></tr>\n",
       "\t<tr><td>IceAge:TheMeltdown</td><td>Drama             </td><td>3                 </td></tr>\n",
       "\t<tr><td>ToyStory3         </td><td>Family            </td><td>3                 </td></tr>\n",
       "\t<tr><td>HappilyNEverAfter </td><td>Adventure         </td><td>3                 </td></tr>\n",
       "</tbody>\n",
       "</table>\n"
      ],
      "text/latex": [
       "\\begin{tabular}{r|lll}\n",
       " name & genre & community\\\\\n",
       "\\hline\n",
       "\t TheLorax           & Romance            & 3                 \\\\\n",
       "\t SurfsUp            & Short              & 3                 \\\\\n",
       "\t DespicableMe2      & Drama              & 3                 \\\\\n",
       "\t Up                 & Music              & 3                 \\\\\n",
       "\t HortonHearsaWho!   & Crime              & 3                 \\\\\n",
       "\t GakenouenoPonyo    & Horror             & 3                 \\\\\n",
       "\t WALLE              & History            & 3                 \\\\\n",
       "\t IceAge:TheMeltdown & Drama              & 3                 \\\\\n",
       "\t ToyStory3          & Family             & 3                 \\\\\n",
       "\t HappilyNEverAfter  & Adventure          & 3                 \\\\\n",
       "\\end{tabular}\n"
      ],
      "text/markdown": [
       "\n",
       "name | genre | community | \n",
       "|---|---|---|---|---|---|---|---|---|---|\n",
       "| TheLorax           | Romance            | 3                  | \n",
       "| SurfsUp            | Short              | 3                  | \n",
       "| DespicableMe2      | Drama              | 3                  | \n",
       "| Up                 | Music              | 3                  | \n",
       "| HortonHearsaWho!   | Crime              | 3                  | \n",
       "| GakenouenoPonyo    | Horror             | 3                  | \n",
       "| WALLE              | History            | 3                  | \n",
       "| IceAge:TheMeltdown | Drama              | 3                  | \n",
       "| ToyStory3          | Family             | 3                  | \n",
       "| HappilyNEverAfter  | Adventure          | 3                  | \n",
       "\n",
       "\n"
      ],
      "text/plain": [
       "   name               genre     community\n",
       "1  TheLorax           Romance   3        \n",
       "2  SurfsUp            Short     3        \n",
       "3  DespicableMe2      Drama     3        \n",
       "4  Up                 Music     3        \n",
       "5  HortonHearsaWho!   Crime     3        \n",
       "6  GakenouenoPonyo    Horror    3        \n",
       "7  WALLE              History   3        \n",
       "8  IceAge:TheMeltdown Drama     3        \n",
       "9  ToyStory3          Family    3        \n",
       "10 HappilyNEverAfter  Adventure 3        "
      ]
     },
     "metadata": {},
     "output_type": "display_data"
    }
   ],
   "source": [
    "ns = get_nearest_neighbor(which(V(g)$name == \"Minions\"))\n",
    "data.table(name = V(g)$name[ns], genre = V(g)$genre, community = V(g)$community.id[ns])[1 : 10, ]"
   ]
  },
  {
   "cell_type": "markdown",
   "metadata": {},
   "source": [
    "## Problem 7\n",
    "Predict three movie's rating"
   ]
  },
  {
   "cell_type": "code",
   "execution_count": 9,
   "metadata": {
    "collapsed": true
   },
   "outputs": [],
   "source": [
    "movie_ratings = fread(file=\"clean_movie_rating.txt\", header=FALSE, sep='\\t')"
   ]
  },
  {
   "cell_type": "code",
   "execution_count": 10,
   "metadata": {
    "collapsed": true
   },
   "outputs": [],
   "source": [
    "setkey(movie_ratings, V1)"
   ]
  },
  {
   "cell_type": "code",
   "execution_count": 11,
   "metadata": {
    "collapsed": true
   },
   "outputs": [],
   "source": [
    "V(g)$rating = movie_ratings[V(g)$name, ]$V2\n",
    "# some movie does not have ratings"
   ]
  },
  {
   "cell_type": "code",
   "execution_count": 12,
   "metadata": {
    "collapsed": true
   },
   "outputs": [],
   "source": [
    "example_movies = c(\n",
    "    \"BatmanvSuperman:DawnofJustice\",\n",
    "    \"Mission:Impossible-RogueNation\",\n",
    "    \"Minions\"\n",
    ")"
   ]
  },
  {
   "cell_type": "code",
   "execution_count": 13,
   "metadata": {
    "collapsed": true
   },
   "outputs": [],
   "source": [
    "# get example movies' id\n",
    "example_ids = sapply(example_movies, function(x){ which( V(g)$name == x) })"
   ]
  },
  {
   "cell_type": "code",
   "execution_count": 14,
   "metadata": {
    "collapsed": true
   },
   "outputs": [],
   "source": [
    "get_nearest_neighbor_average_rating = function(vid, count) {\n",
    "    ns = get_nearest_neighbor(vid)\n",
    "    ratings = ns[1:count]$rating\n",
    "    mean(ratings, na.rm=TRUE)\n",
    "}"
   ]
  },
  {
   "cell_type": "code",
   "execution_count": 15,
   "metadata": {
    "collapsed": true
   },
   "outputs": [],
   "source": [
    "get_community_average_rating = function(vid) {\n",
    "    comm.id = V(g)[vid]$community.id\n",
    "    vs = which(V(g)$community.id == comm.id)\n",
    "    rating = V(g)$rating[vs]\n",
    "    mean(rating, na.rm=TRUE)\n",
    "}"
   ]
  },
  {
   "cell_type": "code",
   "execution_count": 16,
   "metadata": {
    "collapsed": true
   },
   "outputs": [],
   "source": [
    "actual_ratings = c(6.7, 7.4, 6.4)"
   ]
  },
  {
   "cell_type": "code",
   "execution_count": 17,
   "metadata": {
    "collapsed": true
   },
   "outputs": [],
   "source": [
    "neighbor_ratings = sapply(example_ids, function(x) {get_nearest_neighbor_average_rating(x, 10)})"
   ]
  },
  {
   "cell_type": "code",
   "execution_count": 18,
   "metadata": {
    "collapsed": true
   },
   "outputs": [],
   "source": [
    "community_ratings = sapply(example_ids, get_community_average_rating)"
   ]
  },
  {
   "cell_type": "code",
   "execution_count": 103,
   "metadata": {},
   "outputs": [
    {
     "data": {
      "text/html": [
       "<dl class=dl-horizontal>\n",
       "\t<dt>BatmanvSuperman:DawnofJustice</dt>\n",
       "\t\t<dd>6.37777777777778</dd>\n",
       "\t<dt>Mission:Impossible-RogueNation</dt>\n",
       "\t\t<dd>7.28571428571429</dd>\n",
       "\t<dt>Minions</dt>\n",
       "\t\t<dd>7.04</dd>\n",
       "</dl>\n"
      ],
      "text/latex": [
       "\\begin{description*}\n",
       "\\item[BatmanvSuperman:DawnofJustice] 6.37777777777778\n",
       "\\item[Mission:Impossible-RogueNation] 7.28571428571429\n",
       "\\item[Minions] 7.04\n",
       "\\end{description*}\n"
      ],
      "text/markdown": [
       "BatmanvSuperman:DawnofJustice\n",
       ":   6.37777777777778Mission:Impossible-RogueNation\n",
       ":   7.28571428571429Minions\n",
       ":   7.04\n",
       "\n"
      ],
      "text/plain": [
       " BatmanvSuperman:DawnofJustice Mission:Impossible-RogueNation \n",
       "                      6.377778                       7.285714 \n",
       "                       Minions \n",
       "                      7.040000 "
      ]
     },
     "metadata": {},
     "output_type": "display_data"
    }
   ],
   "source": [
    "neighbor_ratings"
   ]
  },
  {
   "cell_type": "code",
   "execution_count": 105,
   "metadata": {},
   "outputs": [
    {
     "data": {
      "text/html": [
       "<dl class=dl-horizontal>\n",
       "\t<dt>BatmanvSuperman:DawnofJustice</dt>\n",
       "\t\t<dd>6.20935412026726</dd>\n",
       "\t<dt>Mission:Impossible-RogueNation</dt>\n",
       "\t\t<dd>6.20935412026726</dd>\n",
       "\t<dt>Minions</dt>\n",
       "\t\t<dd>6.20935412026726</dd>\n",
       "</dl>\n"
      ],
      "text/latex": [
       "\\begin{description*}\n",
       "\\item[BatmanvSuperman:DawnofJustice] 6.20935412026726\n",
       "\\item[Mission:Impossible-RogueNation] 6.20935412026726\n",
       "\\item[Minions] 6.20935412026726\n",
       "\\end{description*}\n"
      ],
      "text/markdown": [
       "BatmanvSuperman:DawnofJustice\n",
       ":   6.20935412026726Mission:Impossible-RogueNation\n",
       ":   6.20935412026726Minions\n",
       ":   6.20935412026726\n",
       "\n"
      ],
      "text/plain": [
       " BatmanvSuperman:DawnofJustice Mission:Impossible-RogueNation \n",
       "                      6.209354                       6.209354 \n",
       "                       Minions \n",
       "                      6.209354 "
      ]
     },
     "metadata": {},
     "output_type": "display_data"
    }
   ],
   "source": [
    "community_ratings"
   ]
  },
  {
   "cell_type": "code",
   "execution_count": 19,
   "metadata": {
    "collapsed": true
   },
   "outputs": [],
   "source": [
    "predict_rating = function(vid) {\n",
    "    n_rating = get_nearest_neighbor_average_rating(vid, 10)\n",
    "    comm_rating = get_community_average_rating(vid)\n",
    "    0.7*n_rating + 0.3*comm_rating\n",
    "}"
   ]
  },
  {
   "cell_type": "code",
   "execution_count": 20,
   "metadata": {
    "collapsed": true
   },
   "outputs": [],
   "source": [
    "predicted_rating = sapply(example_ids, predict_rating)"
   ]
  },
  {
   "cell_type": "code",
   "execution_count": 22,
   "metadata": {},
   "outputs": [
    {
     "data": {
      "text/html": [
       "<dl class=dl-horizontal>\n",
       "\t<dt>BatmanvSuperman:DawnofJustice</dt>\n",
       "\t\t<dd>6.32725068052462</dd>\n",
       "\t<dt>Mission:Impossible-RogueNation</dt>\n",
       "\t\t<dd>6.96280623608018</dd>\n",
       "\t<dt>Minions</dt>\n",
       "\t\t<dd>6.79080623608018</dd>\n",
       "</dl>\n"
      ],
      "text/latex": [
       "\\begin{description*}\n",
       "\\item[BatmanvSuperman:DawnofJustice] 6.32725068052462\n",
       "\\item[Mission:Impossible-RogueNation] 6.96280623608018\n",
       "\\item[Minions] 6.79080623608018\n",
       "\\end{description*}\n"
      ],
      "text/markdown": [
       "BatmanvSuperman:DawnofJustice\n",
       ":   6.32725068052462Mission:Impossible-RogueNation\n",
       ":   6.96280623608018Minions\n",
       ":   6.79080623608018\n",
       "\n"
      ],
      "text/plain": [
       " BatmanvSuperman:DawnofJustice Mission:Impossible-RogueNation \n",
       "                      6.327251                       6.962806 \n",
       "                       Minions \n",
       "                      6.790806 "
      ]
     },
     "metadata": {},
     "output_type": "display_data"
    }
   ],
   "source": [
    "predicted_rating"
   ]
  },
  {
   "cell_type": "code",
   "execution_count": null,
   "metadata": {
    "collapsed": true
   },
   "outputs": [],
   "source": []
  }
 ],
 "metadata": {
  "kernelspec": {
   "display_name": "R",
   "language": "R",
   "name": "ir"
  },
  "language_info": {
   "codemirror_mode": "r",
   "file_extension": ".r",
   "mimetype": "text/x-r-source",
   "name": "R",
   "pygments_lexer": "r",
   "version": "3.2.3"
  }
 },
 "nbformat": 4,
 "nbformat_minor": 2
}
